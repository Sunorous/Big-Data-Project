{
 "cells": [
  {
   "cell_type": "code",
   "execution_count": 1,
   "id": "23afaf6c-da20-4eb3-b326-53798fb04442",
   "metadata": {
    "tags": []
   },
   "outputs": [
    {
     "name": "stderr",
     "output_type": "stream",
     "text": [
      "Setting default log level to \"WARN\".\n",
      "To adjust logging level use sc.setLogLevel(newLevel). For SparkR, use setLogLevel(newLevel).\n"
     ]
    },
    {
     "name": "stdout",
     "output_type": "stream",
     "text": [
      "23/05/02 21:21:03 WARN NativeCodeLoader: Unable to load native-hadoop library for your platform... using builtin-java classes where applicable\n"
     ]
    }
   ],
   "source": [
    "import os\n",
    "import pyspark\n",
    "conf = pyspark.SparkConf()\n",
    "\n",
    "import random\n",
    "from pyspark.sql.functions import *\n",
    "\n",
    "conf.set('spark.sql.repl.eagerEval.enabled', True)\n",
    "conf.set('spark.driver.memory','8g')\n",
    "\n",
    "sc = pyspark.SparkContext(conf=conf)\n",
    "spark = pyspark.sql.SparkSession(sc)"
   ]
  },
  {
   "cell_type": "code",
   "execution_count": 2,
   "id": "2887ca91-6352-42ed-9ceb-7aadd416a37e",
   "metadata": {
    "tags": []
   },
   "outputs": [
    {
     "name": "stderr",
     "output_type": "stream",
     "text": [
      "                                                                                \r"
     ]
    }
   ],
   "source": [
    "df1 = spark.read.option(\"inferSchema\", \"true\")\\\n",
    "                  .option(\"header\", \"true\")\\\n",
    "                  .csv(\"Parking_Violations/*.csv\")"
   ]
  },
  {
   "cell_type": "code",
   "execution_count": 4,
   "id": "d3f0ef73-a732-4bf8-b773-85f9cfd83b29",
   "metadata": {
    "tags": []
   },
   "outputs": [
    {
     "name": "stderr",
     "output_type": "stream",
     "text": [
      "                                                                                \r"
     ]
    },
    {
     "data": {
      "text/plain": [
       "121490062"
      ]
     },
     "execution_count": 4,
     "metadata": {},
     "output_type": "execute_result"
    }
   ],
   "source": [
    "df1.count()"
   ]
  },
  {
   "cell_type": "code",
   "execution_count": 14,
   "id": "4a56d421-0d82-4b68-9b77-cc9788706958",
   "metadata": {
    "tags": []
   },
   "outputs": [
    {
     "name": "stdout",
     "output_type": "stream",
     "text": [
      "root\n",
      " |-- Summons Number: string (nullable = true)\n",
      " |-- Plate ID: string (nullable = true)\n",
      " |-- Registration State: string (nullable = true)\n",
      " |-- Plate Type: string (nullable = true)\n",
      " |-- Issue Date: string (nullable = true)\n",
      " |-- Violation Code: string (nullable = true)\n",
      " |-- Vehicle Body Type: string (nullable = true)\n",
      " |-- Vehicle Make: string (nullable = true)\n",
      " |-- Issuing Agency: string (nullable = true)\n",
      " |-- Street Code1: string (nullable = true)\n",
      " |-- Street Code2: string (nullable = true)\n",
      " |-- Street Code3: string (nullable = true)\n",
      " |-- Vehicle Expiration Date: string (nullable = true)\n",
      " |-- Violation Location: string (nullable = true)\n",
      " |-- Violation Precinct: string (nullable = true)\n",
      " |-- Issuer Precinct: string (nullable = true)\n",
      " |-- Issuer Code: string (nullable = true)\n",
      " |-- Issuer Command: string (nullable = true)\n",
      " |-- Issuer Squad: string (nullable = true)\n",
      " |-- Violation Time: string (nullable = true)\n",
      " |-- Time First Observed: string (nullable = true)\n",
      " |-- Violation County: string (nullable = true)\n",
      " |-- Violation In Front Of Or Opposite: string (nullable = true)\n",
      " |-- Number: string (nullable = true)\n",
      " |-- Street: string (nullable = true)\n",
      " |-- Intersecting Street: string (nullable = true)\n",
      " |-- Date First Observed: string (nullable = true)\n",
      " |-- Law Section: string (nullable = true)\n",
      " |-- Sub Division: string (nullable = true)\n",
      " |-- Violation Legal Code: string (nullable = true)\n",
      " |-- Days Parking In Effect    : string (nullable = true)\n",
      " |-- From Hours In Effect: string (nullable = true)\n",
      " |-- To Hours In Effect: string (nullable = true)\n",
      " |-- Vehicle Color: string (nullable = true)\n",
      " |-- Unregistered Vehicle?: string (nullable = true)\n",
      " |-- Vehicle Year: string (nullable = true)\n",
      " |-- Meter Number: string (nullable = true)\n",
      " |-- Feet From Curb: string (nullable = true)\n",
      " |-- Violation Post Code: string (nullable = true)\n",
      " |-- Violation Description: string (nullable = true)\n",
      " |-- No Standing or Stopping Violation: string (nullable = true)\n",
      " |-- Hydrant Violation: string (nullable = true)\n",
      " |-- Double Parking Violation: string (nullable = true)\n",
      "\n"
     ]
    }
   ],
   "source": [
    "\n",
    "# df2 = df2.withColumnRenamed(\"Summons Number\",\"Summons_Number\")\n",
    "df1.printSchema()\n"
   ]
  },
  {
   "cell_type": "code",
   "execution_count": 15,
   "id": "b23cf959-5574-4ec0-a8c1-3ab8e50b4056",
   "metadata": {
    "tags": []
   },
   "outputs": [],
   "source": [
    "columns_to_keep = [\n",
    "    \"Summons Number\",\n",
    "    \"Issue Date\",\n",
    "    \"Violation Time\",\n",
    "    \"Vehicle Body Type\",\n",
    "    \"Vehicle Make\",\n",
    "    \"Registration State\",\n",
    "    \"Violation Code\",\n",
    "    \"Violation Precinct\",\n",
    "    \"Issuer Code\",\n",
    "    \"Vehicle Color\",\n",
    "    \"Vehicle Year\",\n",
    "]\n",
    "df = df1.select(columns_to_keep)"
   ]
  },
  {
   "cell_type": "code",
   "execution_count": 16,
   "id": "24ecaf34-9dc9-4556-88d5-e3d04eff1d3f",
   "metadata": {
    "tags": []
   },
   "outputs": [
    {
     "name": "stdout",
     "output_type": "stream",
     "text": [
      "+--------------+----------+--------------+-----------------+------------+------------------+--------------+------------------+-----------+-------------+------------+\n",
      "|Summons Number|Issue Date|Violation Time|Vehicle Body Type|Vehicle Make|Registration State|Violation Code|Violation Precinct|Issuer Code|Vehicle Color|Vehicle Year|\n",
      "+--------------+----------+--------------+-----------------+------------+------------------+--------------+------------------+-----------+-------------+------------+\n",
      "|    1361929741|12/18/1970|         0358A|             SUBN|         GMC|                NY|            20|                70|     829379|        BLACK|        2013|\n",
      "|    1366962000|02/02/1971|         1116A|             DELV|       FRUEH|                NY|            46|                68|     928157|          BRN|        2013|\n",
      "|    1342296187|09/18/1971|         0939A|              VAN|        FORD|                NY|            21|               104|     515350|         BLUE|        2002|\n",
      "|    1342296199|09/18/1971|         0945A|             null|         GMC|                TX|            21|               104|     515350|        SILVR|        2008|\n",
      "|    1342296217|09/18/1971|         0950A|             SUBN|       NISSA|                NY|            21|               104|     515350|        WHITE|        2012|\n",
      "|    1356906515|09/18/1971|         0914P|              SDN|       MAZDA|                NY|            40|                33|     938472|          BLK|        2010|\n",
      "|    1337077380|10/10/1971|         0115P|              BUS|       INTER|                NY|            14|               115|     942218|        YELLO|        2001|\n",
      "|    1364523796|04/05/1973|         0555P|              SDN|       TOYOT|                VA|            14|                73|     936136|          BLK|           0|\n",
      "|    1359914924|07/22/1973|         1216P|             DELV|       TOYOT|                NY|            46|                10|     926246|           WH|        2010|\n",
      "|    1355498326|08/12/1973|         0805A|             SUBN|       ACURA|                NY|            21|                68|     594301|         GREY|        2005|\n",
      "|    1361272259|09/22/1973|         0207A|              SDN|         BMW|                99|            21|                14|     946558|           BK|           0|\n",
      "|    1360588267|09/25/1973|         0722A|             TRLR|        null|                99|            66|                94|     867970|        ORANG|           0|\n",
      "|    1360588279|09/25/1973|         0745A|              SDN|       LEXUS|                NJ|            21|                90|     567970|        SILVE|           0|\n",
      "|    1360016156|10/15/1973|         0814A|             DELV|       MERCU|                NY|            46|                84|     921824|           GR|        1973|\n",
      "|    1255986920|10/30/1973|         0138P|             FEDE|         GMC|                NY|            59|                 1|     160203|        WHITE|        1995|\n",
      "|    1359121262|11/12/1973|         0730A|             SUBN|        JEEP|                NJ|            31|               106|     943896|          BLU|        2004|\n",
      "|    1350454229|11/13/1973|         1246P|             TRLR|       FRUEH|                ME|            66|                41|     533213|        SILVE|           0|\n",
      "|    1364684342|01/15/1974|         1020A|             DELV|        null|                NY|            46|                62|     938416|           BR|           0|\n",
      "|    1365454538|02/12/1976|         0458A|              VAN|       TOYOT|                NY|            40|               114|     924083|          BLK|        2007|\n",
      "|    1357066697|12/27/1976|         1239A|              VAN|        FORD|                NY|            78|               110|     938338|        WHITE|        2003|\n",
      "+--------------+----------+--------------+-----------------+------------+------------------+--------------+------------------+-----------+-------------+------------+\n",
      "\n"
     ]
    }
   ],
   "source": [
    "df.limit(20).show()"
   ]
  },
  {
   "cell_type": "code",
   "execution_count": null,
   "id": "6a827d50-feaf-411b-bc8f-002bb8f36160",
   "metadata": {},
   "outputs": [],
   "source": []
  }
 ],
 "metadata": {
  "kernelspec": {
   "display_name": "Python 3 (ipykernel)",
   "language": "python",
   "name": "python3"
  },
  "language_info": {
   "codemirror_mode": {
    "name": "ipython",
    "version": 3
   },
   "file_extension": ".py",
   "mimetype": "text/x-python",
   "name": "python",
   "nbconvert_exporter": "python",
   "pygments_lexer": "ipython3",
   "version": "3.8.16"
  }
 },
 "nbformat": 4,
 "nbformat_minor": 5
}
