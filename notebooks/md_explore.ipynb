{
 "cells": [
  {
   "cell_type": "code",
   "execution_count": 1,
   "id": "083a55fc-ba8b-4b91-93ae-8a5935a63a95",
   "metadata": {},
   "outputs": [
    {
     "name": "stderr",
     "output_type": "stream",
     "text": [
      "Setting default log level to \"WARN\".\n",
      "To adjust logging level use sc.setLogLevel(newLevel). For SparkR, use setLogLevel(newLevel).\n"
     ]
    },
    {
     "name": "stdout",
     "output_type": "stream",
     "text": [
      "23/05/08 20:16:50 WARN NativeCodeLoader: Unable to load native-hadoop library for your platform... using builtin-java classes where applicable\n",
      "23/05/08 20:16:51 WARN Utils: Service 'SparkUI' could not bind on port 4040. Attempting port 4041.\n",
      "23/05/08 20:16:51 WARN Utils: Service 'SparkUI' could not bind on port 4041. Attempting port 4042.\n"
     ]
    }
   ],
   "source": [
    "import pandas as pd\n",
    "from sodapy import Socrata\n",
    "import pyspark\n",
    "import json\n",
    "import matplotlib.pyplot as plt\n",
    "import numpy as np\n",
    "\n",
    "conf = pyspark.SparkConf()\n",
    "conf.set('spark.driver.memory', '16g')\n",
    "\n",
    "sc = pyspark.SparkContext(conf=conf)\n",
    "spark = pyspark.sql.SparkSession(sc)\n",
    "\n",
    "import dask.dataframe as dd\n",
    "from dask_glm.datasets import make_regression\n",
    "from dask_ml.linear_model import LinearRegression\n",
    "\n",
    "from pyspark.sql.functions import col, when\n",
    "from pyspark.ml.feature import StringIndexer, OneHotEncoder\n"
   ]
  },
  {
   "cell_type": "code",
   "execution_count": 2,
   "id": "9b97d4e2-7ce9-4faf-96d4-446d30c7ae78",
   "metadata": {
    "tags": []
   },
   "outputs": [],
   "source": [
    "from pyspark.sql.functions import desc\n"
   ]
  },
  {
   "cell_type": "code",
   "execution_count": 3,
   "id": "3e96fc81-dca1-4795-bfb7-eeb4490eec39",
   "metadata": {
    "tags": []
   },
   "outputs": [],
   "source": [
    "test_data_path = '/Users/maludee/repos/Big-Data-Project/data/Parking_Violations_Issued_-_Fiscal_Year_2023.csv'\n",
    "open_data_path = '/Users/maludee/repos/Big-Data-Project/data/Open_Parking_and_Camera_Violations.csv'\n",
    "precinct_data_path = \"/Users/maludee/repos/Big-Data-Project/data/nypp.csv\""
   ]
  },
  {
   "cell_type": "markdown",
   "id": "597d29a6-7b2b-4fa1-bce7-fd39c6633968",
   "metadata": {},
   "source": [
    "# Precinct Map for Tableau"
   ]
  },
  {
   "cell_type": "code",
   "execution_count": 4,
   "id": "354c55b6-c824-4354-8afe-8c83bbe108dc",
   "metadata": {
    "tags": []
   },
   "outputs": [
    {
     "name": "stderr",
     "output_type": "stream",
     "text": [
      "                                                                                \r"
     ]
    },
    {
     "name": "stdout",
     "output_type": "stream",
     "text": [
      "23/05/08 19:32:49 WARN package: Truncated the string representation of a plan since it was too large. This behavior can be adjusted by setting 'spark.sql.debug.maxToStringFields'.\n"
     ]
    },
    {
     "name": "stderr",
     "output_type": "stream",
     "text": [
      "                                                                                \r"
     ]
    }
   ],
   "source": [
    "# YEARLY PARKING DATA - FOR TABLEAU\n",
    "df = spark.read \\\n",
    "    .option(\"header\", \"true\") \\\n",
    "    .option(\"inferSchema\", \"true\") \\\n",
    "    .csv(test_data_path)\n",
    "\n",
    "df.repartition(1).write.mode('overwrite').parquet('tmp/parking_2023')\n",
    "\n",
    "df = spark.read.parquet('/Users/maludee/repos/Big-Data-Project/notebooks/tmp/parking_2023/*.parquet')"
   ]
  },
  {
   "cell_type": "code",
   "execution_count": 5,
   "id": "7fe91273-e265-4ad8-9499-792001b9bb81",
   "metadata": {
    "tags": []
   },
   "outputs": [
    {
     "name": "stdout",
     "output_type": "stream",
     "text": [
      "root\n",
      " |-- Summons Number: long (nullable = true)\n",
      " |-- Plate ID: string (nullable = true)\n",
      " |-- Registration State: string (nullable = true)\n",
      " |-- Plate Type: string (nullable = true)\n",
      " |-- Issue Date: string (nullable = true)\n",
      " |-- Violation Code: integer (nullable = true)\n",
      " |-- Vehicle Body Type: string (nullable = true)\n",
      " |-- Vehicle Make: string (nullable = true)\n",
      " |-- Issuing Agency: string (nullable = true)\n",
      " |-- Street Code1: integer (nullable = true)\n",
      " |-- Street Code2: integer (nullable = true)\n",
      " |-- Street Code3: integer (nullable = true)\n",
      " |-- Vehicle Expiration Date: integer (nullable = true)\n",
      " |-- Violation Location: integer (nullable = true)\n",
      " |-- Violation Precinct: integer (nullable = true)\n",
      " |-- Issuer Precinct: integer (nullable = true)\n",
      " |-- Issuer Code: integer (nullable = true)\n",
      " |-- Issuer Command: string (nullable = true)\n",
      " |-- Issuer Squad: string (nullable = true)\n",
      " |-- Violation Time: string (nullable = true)\n",
      " |-- Time First Observed: string (nullable = true)\n",
      " |-- Violation County: string (nullable = true)\n",
      " |-- Violation In Front Of Or Opposite: string (nullable = true)\n",
      " |-- House Number: string (nullable = true)\n",
      " |-- Street Name: string (nullable = true)\n",
      " |-- Intersecting Street: string (nullable = true)\n",
      " |-- Date First Observed: integer (nullable = true)\n",
      " |-- Law Section: integer (nullable = true)\n",
      " |-- Sub Division: string (nullable = true)\n",
      " |-- Violation Legal Code: string (nullable = true)\n",
      " |-- Days Parking In Effect    : string (nullable = true)\n",
      " |-- From Hours In Effect: string (nullable = true)\n",
      " |-- To Hours In Effect: string (nullable = true)\n",
      " |-- Vehicle Color: string (nullable = true)\n",
      " |-- Unregistered Vehicle?: integer (nullable = true)\n",
      " |-- Vehicle Year: integer (nullable = true)\n",
      " |-- Meter Number: string (nullable = true)\n",
      " |-- Feet From Curb: integer (nullable = true)\n",
      " |-- Violation Post Code: string (nullable = true)\n",
      " |-- Violation Description: string (nullable = true)\n",
      " |-- No Standing or Stopping Violation: string (nullable = true)\n",
      " |-- Hydrant Violation: string (nullable = true)\n",
      " |-- Double Parking Violation: string (nullable = true)\n",
      "\n"
     ]
    }
   ],
   "source": [
    "df.printSchema()"
   ]
  },
  {
   "cell_type": "code",
   "execution_count": 6,
   "id": "f334a4b6-0631-4b98-8a6f-574e7db823ee",
   "metadata": {
    "tags": []
   },
   "outputs": [
    {
     "name": "stdout",
     "output_type": "stream",
     "text": [
      "+--------------------+--------+-------------+---------------+\n",
      "|            the_geom|Precinct|   Shape_Leng|     Shape_Area|\n",
      "+--------------------+--------+-------------+---------------+\n",
      "|MULTIPOLYGON (((-...|       1|80283.5387782|4.72864229826E7|\n",
      "|MULTIPOLYGON (((-...|       5|18807.1249114|1.80945274385E7|\n",
      "|MULTIPOLYGON (((-...|       6|24875.9642171|2.20179465474E7|\n",
      "|MULTIPOLYGON (((-...|       7|17287.5444926| 1.8366669928E7|\n",
      "|MULTIPOLYGON (((-...|       9|19772.5107407|2.13953862669E7|\n",
      "+--------------------+--------+-------------+---------------+\n",
      "only showing top 5 rows\n",
      "\n"
     ]
    }
   ],
   "source": [
    "precinct_keys = spark.read \\\n",
    "    .option(\"header\", \"true\") \\\n",
    "    .option(\"inferSchema\", \"true\") \\\n",
    "    .csv(precinct_data_path)\n",
    "precinct_keys.show(5)"
   ]
  },
  {
   "cell_type": "code",
   "execution_count": 7,
   "id": "38157b7f-6b22-4da3-be1b-ba1f8d276136",
   "metadata": {
    "tags": []
   },
   "outputs": [
    {
     "name": "stderr",
     "output_type": "stream",
     "text": [
      "                                                                                \r"
     ]
    },
    {
     "name": "stdout",
     "output_type": "stream",
     "text": [
      "+------------------+----------------+\n",
      "|violation_precinct|count_violations|\n",
      "+------------------+----------------+\n",
      "|                 0|         5938384|\n",
      "|                19|          331642|\n",
      "|                13|          291119|\n",
      "|                 6|          259154|\n",
      "|               114|          254978|\n",
      "|                14|          220291|\n",
      "+------------------+----------------+\n",
      "only showing top 6 rows\n",
      "\n"
     ]
    }
   ],
   "source": [
    "# use sql syntax to parse the nested json\n",
    "df.createOrReplaceTempView(\"2023_violations\")\n",
    "query = \"\"\"\n",
    "select \n",
    "    `Violation Precinct` as violation_precinct,\n",
    "    count(*) as count_violations\n",
    "from \n",
    "    2023_violations\n",
    "group by 1\n",
    "order by 2 desc\n",
    "\n",
    "\"\"\"\n",
    "precincts = spark.sql(query)\n",
    "precincts.toPandas().to_csv('violations_by_precinct.csv')\n",
    "\n",
    "# I think precinct 0 is in error and should be ignored\n",
    "precincts.show(6)"
   ]
  },
  {
   "cell_type": "markdown",
   "id": "cce6ddbc-1c30-4f62-9508-ea77c2be6da4",
   "metadata": {},
   "source": [
    "# ML Section"
   ]
  },
  {
   "cell_type": "code",
   "execution_count": 4,
   "id": "42843ac5-f993-4cc3-aa32-b972da54fed8",
   "metadata": {
    "tags": []
   },
   "outputs": [
    {
     "name": "stderr",
     "output_type": "stream",
     "text": [
      "                                                                                \r"
     ]
    }
   ],
   "source": [
    "# OPEN DATASET - FOR MACHINE LEARNING \n",
    "# df = spark.read \\\n",
    "#     .option(\"header\", \"true\") \\\n",
    "#     .option(\"inferSchema\", \"true\") \\\n",
    "#     .csv(open_data_path)\n",
    "\n",
    "# df.repartition(1).write.mode('overwrite').parquet('tmp/open_parking_full')\n",
    "\n",
    "# read in the open data violations file\n",
    "df = spark.read.parquet('/Users/maludee/repos/Big-Data-Project/notebooks/tmp/open_parking_full/*.parquet')"
   ]
  },
  {
   "cell_type": "code",
   "execution_count": 5,
   "id": "449c8f80-3f88-42b1-b298-ae7f53180a36",
   "metadata": {
    "tags": []
   },
   "outputs": [
    {
     "name": "stderr",
     "output_type": "stream",
     "text": [
      "                                                                                \r"
     ]
    },
    {
     "data": {
      "text/html": [
       "<div>\n",
       "<style scoped>\n",
       "    .dataframe tbody tr th:only-of-type {\n",
       "        vertical-align: middle;\n",
       "    }\n",
       "\n",
       "    .dataframe tbody tr th {\n",
       "        vertical-align: top;\n",
       "    }\n",
       "\n",
       "    .dataframe thead th {\n",
       "        text-align: right;\n",
       "    }\n",
       "</style>\n",
       "<table border=\"1\" class=\"dataframe\">\n",
       "  <thead>\n",
       "    <tr style=\"text-align: right;\">\n",
       "      <th></th>\n",
       "      <th>Plate</th>\n",
       "      <th>State</th>\n",
       "      <th>License Type</th>\n",
       "      <th>Summons Number</th>\n",
       "      <th>Issue Date</th>\n",
       "      <th>Violation Time</th>\n",
       "      <th>Violation</th>\n",
       "      <th>Judgment Entry Date</th>\n",
       "      <th>Fine Amount</th>\n",
       "      <th>Penalty Amount</th>\n",
       "      <th>Interest Amount</th>\n",
       "      <th>Reduction Amount</th>\n",
       "      <th>Payment Amount</th>\n",
       "      <th>Amount Due</th>\n",
       "      <th>Precinct</th>\n",
       "      <th>County</th>\n",
       "      <th>Issuing Agency</th>\n",
       "      <th>Violation Status</th>\n",
       "      <th>Summons Image</th>\n",
       "    </tr>\n",
       "  </thead>\n",
       "  <tbody>\n",
       "    <tr>\n",
       "      <th>0</th>\n",
       "      <td>DEMAR12</td>\n",
       "      <td>NY</td>\n",
       "      <td>COM</td>\n",
       "      <td>8766059240</td>\n",
       "      <td>09/09/2019</td>\n",
       "      <td>10:49A</td>\n",
       "      <td>NO PARKING-DAY/TIME LIMITS</td>\n",
       "      <td>None</td>\n",
       "      <td>65.0</td>\n",
       "      <td>0.0</td>\n",
       "      <td>0.0</td>\n",
       "      <td>40.0</td>\n",
       "      <td>25.0</td>\n",
       "      <td>0.0</td>\n",
       "      <td>10</td>\n",
       "      <td>NY</td>\n",
       "      <td>TRAFFIC</td>\n",
       "      <td>HEARING HELD-GUILTY REDUCTION</td>\n",
       "      <td>View Summons (http://nycserv.nyc.gov/NYCServWe...</td>\n",
       "    </tr>\n",
       "    <tr>\n",
       "      <th>1</th>\n",
       "      <td>ZBC17M</td>\n",
       "      <td>NJ</td>\n",
       "      <td>PAS</td>\n",
       "      <td>4690039010</td>\n",
       "      <td>05/12/2020</td>\n",
       "      <td>04:16P</td>\n",
       "      <td>PHTO SCHOOL ZN SPEED VIOLATION</td>\n",
       "      <td>None</td>\n",
       "      <td>50.0</td>\n",
       "      <td>0.0</td>\n",
       "      <td>0.0</td>\n",
       "      <td>0.0</td>\n",
       "      <td>50.0</td>\n",
       "      <td>0.0</td>\n",
       "      <td>0</td>\n",
       "      <td>MN</td>\n",
       "      <td>DEPARTMENT OF TRANSPORTATION</td>\n",
       "      <td>None</td>\n",
       "      <td>View Summons (http://nycserv.nyc.gov/NYCServWe...</td>\n",
       "    </tr>\n",
       "    <tr>\n",
       "      <th>2</th>\n",
       "      <td>GKB2709</td>\n",
       "      <td>NY</td>\n",
       "      <td>PAS</td>\n",
       "      <td>4693856617</td>\n",
       "      <td>06/04/2020</td>\n",
       "      <td>02:37P</td>\n",
       "      <td>PHTO SCHOOL ZN SPEED VIOLATION</td>\n",
       "      <td>None</td>\n",
       "      <td>50.0</td>\n",
       "      <td>0.0</td>\n",
       "      <td>0.0</td>\n",
       "      <td>0.0</td>\n",
       "      <td>50.0</td>\n",
       "      <td>0.0</td>\n",
       "      <td>0</td>\n",
       "      <td>BK</td>\n",
       "      <td>DEPARTMENT OF TRANSPORTATION</td>\n",
       "      <td>None</td>\n",
       "      <td>View Summons (http://nycserv.nyc.gov/NYCServWe...</td>\n",
       "    </tr>\n",
       "  </tbody>\n",
       "</table>\n",
       "</div>"
      ],
      "text/plain": [
       "     Plate State License Type  Summons Number  Issue Date Violation Time  \\\n",
       "0  DEMAR12    NY          COM      8766059240  09/09/2019         10:49A   \n",
       "1   ZBC17M    NJ          PAS      4690039010  05/12/2020         04:16P   \n",
       "2  GKB2709    NY          PAS      4693856617  06/04/2020         02:37P   \n",
       "\n",
       "                        Violation Judgment Entry Date  Fine Amount  \\\n",
       "0      NO PARKING-DAY/TIME LIMITS                None         65.0   \n",
       "1  PHTO SCHOOL ZN SPEED VIOLATION                None         50.0   \n",
       "2  PHTO SCHOOL ZN SPEED VIOLATION                None         50.0   \n",
       "\n",
       "   Penalty Amount  Interest Amount  Reduction Amount  Payment Amount  \\\n",
       "0             0.0              0.0              40.0            25.0   \n",
       "1             0.0              0.0               0.0            50.0   \n",
       "2             0.0              0.0               0.0            50.0   \n",
       "\n",
       "   Amount Due  Precinct County                Issuing Agency  \\\n",
       "0         0.0        10     NY                       TRAFFIC   \n",
       "1         0.0         0     MN  DEPARTMENT OF TRANSPORTATION   \n",
       "2         0.0         0     BK  DEPARTMENT OF TRANSPORTATION   \n",
       "\n",
       "                Violation Status  \\\n",
       "0  HEARING HELD-GUILTY REDUCTION   \n",
       "1                           None   \n",
       "2                           None   \n",
       "\n",
       "                                       Summons Image  \n",
       "0  View Summons (http://nycserv.nyc.gov/NYCServWe...  \n",
       "1  View Summons (http://nycserv.nyc.gov/NYCServWe...  \n",
       "2  View Summons (http://nycserv.nyc.gov/NYCServWe...  "
      ]
     },
     "execution_count": 5,
     "metadata": {},
     "output_type": "execute_result"
    }
   ],
   "source": [
    "df.limit(3).toPandas()"
   ]
  },
  {
   "cell_type": "code",
   "execution_count": 6,
   "id": "c60115e9-8d41-415e-88d9-30011427989a",
   "metadata": {
    "tags": []
   },
   "outputs": [],
   "source": [
    "# select a subset of columns for the model (TODO: add more)\n",
    "df = df.na.drop() \\\n",
    "    .filter((col(\"Precinct\") >= \"1\") & (col(\"Precinct\") <= \"124\")) \\\n",
    "    .select([col(\"State\"), col(\"License Type\"), col(\"Violation\"), \n",
    "             col(\"Fine Amount\"), col(\"Violation Time\"), \n",
    "             col(\"Issue Date\"), col(\"Precinct\")])"
   ]
  },
  {
   "cell_type": "code",
   "execution_count": 7,
   "id": "481b7b12-147d-4318-98d1-e4af636de07c",
   "metadata": {
    "tags": []
   },
   "outputs": [
    {
     "data": {
      "text/html": [
       "<div>\n",
       "<style scoped>\n",
       "    .dataframe tbody tr th:only-of-type {\n",
       "        vertical-align: middle;\n",
       "    }\n",
       "\n",
       "    .dataframe tbody tr th {\n",
       "        vertical-align: top;\n",
       "    }\n",
       "\n",
       "    .dataframe thead th {\n",
       "        text-align: right;\n",
       "    }\n",
       "</style>\n",
       "<table border=\"1\" class=\"dataframe\">\n",
       "  <thead>\n",
       "    <tr style=\"text-align: right;\">\n",
       "      <th></th>\n",
       "      <th>State</th>\n",
       "      <th>License Type</th>\n",
       "      <th>Violation</th>\n",
       "      <th>Fine Amount</th>\n",
       "      <th>Violation Time</th>\n",
       "      <th>Issue Date</th>\n",
       "      <th>Precinct</th>\n",
       "    </tr>\n",
       "  </thead>\n",
       "  <tbody>\n",
       "    <tr>\n",
       "      <th>0</th>\n",
       "      <td>NY</td>\n",
       "      <td>PAS</td>\n",
       "      <td>FIRE HYDRANT</td>\n",
       "      <td>115.0</td>\n",
       "      <td>07:16A</td>\n",
       "      <td>11/26/2017</td>\n",
       "      <td>75</td>\n",
       "    </tr>\n",
       "    <tr>\n",
       "      <th>1</th>\n",
       "      <td>NY</td>\n",
       "      <td>PAS</td>\n",
       "      <td>FRONT OR BACK PLATE MISSING</td>\n",
       "      <td>65.0</td>\n",
       "      <td>08:21A</td>\n",
       "      <td>07/10/2022</td>\n",
       "      <td>121</td>\n",
       "    </tr>\n",
       "    <tr>\n",
       "      <th>2</th>\n",
       "      <td>NY</td>\n",
       "      <td>PAS</td>\n",
       "      <td>NO PARKING-STREET CLEANING</td>\n",
       "      <td>65.0</td>\n",
       "      <td>10:22A</td>\n",
       "      <td>08/01/2022</td>\n",
       "      <td>83</td>\n",
       "    </tr>\n",
       "  </tbody>\n",
       "</table>\n",
       "</div>"
      ],
      "text/plain": [
       "  State License Type                    Violation  Fine Amount Violation Time  \\\n",
       "0    NY          PAS                 FIRE HYDRANT        115.0         07:16A   \n",
       "1    NY          PAS  FRONT OR BACK PLATE MISSING         65.0         08:21A   \n",
       "2    NY          PAS   NO PARKING-STREET CLEANING         65.0         10:22A   \n",
       "\n",
       "   Issue Date  Precinct  \n",
       "0  11/26/2017        75  \n",
       "1  07/10/2022       121  \n",
       "2  08/01/2022        83  "
      ]
     },
     "execution_count": 7,
     "metadata": {},
     "output_type": "execute_result"
    }
   ],
   "source": [
    "df.limit(3).toPandas()"
   ]
  },
  {
   "cell_type": "code",
   "execution_count": 9,
   "id": "c8d24f69-d30d-4e0d-a6f0-7f3aeb632864",
   "metadata": {
    "tags": []
   },
   "outputs": [
    {
     "name": "stdout",
     "output_type": "stream",
     "text": [
      "23/05/08 20:17:01 WARN package: Truncated the string representation of a plan since it was too large. This behavior can be adjusted by setting 'spark.sql.debug.maxToStringFields'.\n"
     ]
    },
    {
     "name": "stderr",
     "output_type": "stream",
     "text": [
      "                                                                                \r"
     ]
    },
    {
     "data": {
      "text/html": [
       "<div>\n",
       "<style scoped>\n",
       "    .dataframe tbody tr th:only-of-type {\n",
       "        vertical-align: middle;\n",
       "    }\n",
       "\n",
       "    .dataframe tbody tr th {\n",
       "        vertical-align: top;\n",
       "    }\n",
       "\n",
       "    .dataframe thead th {\n",
       "        text-align: right;\n",
       "    }\n",
       "</style>\n",
       "<table border=\"1\" class=\"dataframe\">\n",
       "  <thead>\n",
       "    <tr style=\"text-align: right;\">\n",
       "      <th></th>\n",
       "      <th>in_state</th>\n",
       "      <th>passenger_car</th>\n",
       "      <th>business_hours</th>\n",
       "      <th>year</th>\n",
       "      <th>is_weekend</th>\n",
       "      <th>Manhattan</th>\n",
       "      <th>Bronx</th>\n",
       "      <th>Brooklyn</th>\n",
       "      <th>Queens</th>\n",
       "      <th>Staten_Island</th>\n",
       "      <th>...</th>\n",
       "      <th>VEH_SALE_WSHNG_RPRNG_DRIVEWAY</th>\n",
       "      <th>MARGINAL_STREET_WATER_FRONT</th>\n",
       "      <th>OVERTIME_STDG_D_S</th>\n",
       "      <th>BUS_LANE_VIOLATION</th>\n",
       "      <th>UNALTERED_COMM_VEH_NME_ADDRESS</th>\n",
       "      <th>NO_STANDING_OFF_STREET_LOT</th>\n",
       "      <th>NO_STANDING_SNOW_EMERGENCY</th>\n",
       "      <th>REMOVE_REPLACE_FLAT_TIRE</th>\n",
       "      <th>OVERTIME_STANDING_DP</th>\n",
       "      <th>fine_amount</th>\n",
       "    </tr>\n",
       "  </thead>\n",
       "  <tbody>\n",
       "    <tr>\n",
       "      <th>0</th>\n",
       "      <td>1</td>\n",
       "      <td>1</td>\n",
       "      <td>0</td>\n",
       "      <td>2017</td>\n",
       "      <td>1</td>\n",
       "      <td>0</td>\n",
       "      <td>0</td>\n",
       "      <td>1</td>\n",
       "      <td>0</td>\n",
       "      <td>0</td>\n",
       "      <td>...</td>\n",
       "      <td>0</td>\n",
       "      <td>0</td>\n",
       "      <td>0</td>\n",
       "      <td>0</td>\n",
       "      <td>0</td>\n",
       "      <td>0</td>\n",
       "      <td>0</td>\n",
       "      <td>0</td>\n",
       "      <td>0</td>\n",
       "      <td>115.0</td>\n",
       "    </tr>\n",
       "    <tr>\n",
       "      <th>1</th>\n",
       "      <td>1</td>\n",
       "      <td>1</td>\n",
       "      <td>0</td>\n",
       "      <td>2022</td>\n",
       "      <td>1</td>\n",
       "      <td>0</td>\n",
       "      <td>0</td>\n",
       "      <td>0</td>\n",
       "      <td>0</td>\n",
       "      <td>1</td>\n",
       "      <td>...</td>\n",
       "      <td>0</td>\n",
       "      <td>0</td>\n",
       "      <td>0</td>\n",
       "      <td>0</td>\n",
       "      <td>0</td>\n",
       "      <td>0</td>\n",
       "      <td>0</td>\n",
       "      <td>0</td>\n",
       "      <td>0</td>\n",
       "      <td>65.0</td>\n",
       "    </tr>\n",
       "    <tr>\n",
       "      <th>2</th>\n",
       "      <td>1</td>\n",
       "      <td>1</td>\n",
       "      <td>1</td>\n",
       "      <td>2022</td>\n",
       "      <td>0</td>\n",
       "      <td>0</td>\n",
       "      <td>0</td>\n",
       "      <td>1</td>\n",
       "      <td>0</td>\n",
       "      <td>0</td>\n",
       "      <td>...</td>\n",
       "      <td>0</td>\n",
       "      <td>0</td>\n",
       "      <td>0</td>\n",
       "      <td>0</td>\n",
       "      <td>0</td>\n",
       "      <td>0</td>\n",
       "      <td>0</td>\n",
       "      <td>0</td>\n",
       "      <td>0</td>\n",
       "      <td>65.0</td>\n",
       "    </tr>\n",
       "    <tr>\n",
       "      <th>3</th>\n",
       "      <td>0</td>\n",
       "      <td>1</td>\n",
       "      <td>0</td>\n",
       "      <td>2022</td>\n",
       "      <td>0</td>\n",
       "      <td>1</td>\n",
       "      <td>0</td>\n",
       "      <td>0</td>\n",
       "      <td>0</td>\n",
       "      <td>0</td>\n",
       "      <td>...</td>\n",
       "      <td>0</td>\n",
       "      <td>0</td>\n",
       "      <td>0</td>\n",
       "      <td>0</td>\n",
       "      <td>0</td>\n",
       "      <td>0</td>\n",
       "      <td>0</td>\n",
       "      <td>0</td>\n",
       "      <td>0</td>\n",
       "      <td>65.0</td>\n",
       "    </tr>\n",
       "    <tr>\n",
       "      <th>4</th>\n",
       "      <td>1</td>\n",
       "      <td>1</td>\n",
       "      <td>0</td>\n",
       "      <td>2018</td>\n",
       "      <td>0</td>\n",
       "      <td>0</td>\n",
       "      <td>1</td>\n",
       "      <td>0</td>\n",
       "      <td>0</td>\n",
       "      <td>0</td>\n",
       "      <td>...</td>\n",
       "      <td>0</td>\n",
       "      <td>0</td>\n",
       "      <td>0</td>\n",
       "      <td>0</td>\n",
       "      <td>0</td>\n",
       "      <td>0</td>\n",
       "      <td>0</td>\n",
       "      <td>0</td>\n",
       "      <td>0</td>\n",
       "      <td>115.0</td>\n",
       "    </tr>\n",
       "  </tbody>\n",
       "</table>\n",
       "<p>5 rows × 104 columns</p>\n",
       "</div>"
      ],
      "text/plain": [
       "   in_state  passenger_car  business_hours  year  is_weekend  Manhattan  \\\n",
       "0         1              1               0  2017           1          0   \n",
       "1         1              1               0  2022           1          0   \n",
       "2         1              1               1  2022           0          0   \n",
       "3         0              1               0  2022           0          1   \n",
       "4         1              1               0  2018           0          0   \n",
       "\n",
       "   Bronx  Brooklyn  Queens  Staten_Island  ...  VEH_SALE_WSHNG_RPRNG_DRIVEWAY  \\\n",
       "0      0         1       0              0  ...                              0   \n",
       "1      0         0       0              1  ...                              0   \n",
       "2      0         1       0              0  ...                              0   \n",
       "3      0         0       0              0  ...                              0   \n",
       "4      1         0       0              0  ...                              0   \n",
       "\n",
       "   MARGINAL_STREET_WATER_FRONT  OVERTIME_STDG_D_S  BUS_LANE_VIOLATION  \\\n",
       "0                            0                  0                   0   \n",
       "1                            0                  0                   0   \n",
       "2                            0                  0                   0   \n",
       "3                            0                  0                   0   \n",
       "4                            0                  0                   0   \n",
       "\n",
       "   UNALTERED_COMM_VEH_NME_ADDRESS  NO_STANDING_OFF_STREET_LOT  \\\n",
       "0                               0                           0   \n",
       "1                               0                           0   \n",
       "2                               0                           0   \n",
       "3                               0                           0   \n",
       "4                               0                           0   \n",
       "\n",
       "   NO_STANDING_SNOW_EMERGENCY  REMOVE_REPLACE_FLAT_TIRE  OVERTIME_STANDING_DP  \\\n",
       "0                           0                         0                     0   \n",
       "1                           0                         0                     0   \n",
       "2                           0                         0                     0   \n",
       "3                           0                         0                     0   \n",
       "4                           0                         0                     0   \n",
       "\n",
       "   fine_amount  \n",
       "0        115.0  \n",
       "1         65.0  \n",
       "2         65.0  \n",
       "3         65.0  \n",
       "4        115.0  \n",
       "\n",
       "[5 rows x 104 columns]"
      ]
     },
     "execution_count": 9,
     "metadata": {},
     "output_type": "execute_result"
    }
   ],
   "source": [
    "# make into a temp sql view for convenience \n",
    "df.createOrReplaceTempView(\"open_violations\")\n",
    "\n",
    "query = \"\"\"\n",
    "\n",
    "    select \n",
    "        case when lower(`State`) = 'ny' then 1 else 0 end as in_state,\n",
    "        case when lower(`License Type`) = 'pas' then 1 else 0 end as passenger_car,\n",
    "        -- `Violation Time`,\n",
    "        -- CASE WHEN SUBSTRING(`Violation Time`, -1) = 'A' \n",
    "        --    THEN SUBSTRING(`Violation Time`, 1, 2)\n",
    "        --    ELSE CAST(CAST(SUBSTRING(`Violation Time`, 1, 2) AS INT) + 12 AS STRING)\n",
    "        --    END AS violation_hour,\n",
    "        case when (CASE WHEN SUBSTRING(`Violation Time`, -1) = 'A' \n",
    "            THEN SUBSTRING(`Violation Time`, 1, 2)\n",
    "            ELSE CAST(CAST(SUBSTRING(`Violation Time`, 1, 2) AS INT) + 12 AS STRING)\n",
    "            END) between 9 and 18 then 1 else 0 end as business_hours,\n",
    "        --`Issue Date` as issue_date,\n",
    "        --  dayofweek(to_date(`Issue Date`, 'MM/dd/yyyy')) as day_of_week,\n",
    "        extract(year from (to_date(`Issue Date`, 'MM/dd/yyyy'))) as year,\n",
    "        case when dayofweek(to_date(`Issue Date`, 'MM/dd/yyyy')) = 1 then 1 \n",
    "        when dayofweek(to_date(`Issue Date`, 'MM/dd/yyyy')) = 7 then 1 else 0 end as is_weekend,\n",
    "\n",
    "        case when Precinct >= 1 AND Precinct <= 40 then 1 else 0 end as Manhattan,\n",
    "        case when Precinct >= 40 AND Precinct <= 60 then 1 else 0 end as Bronx,\n",
    "        case when Precinct >= 60 AND Precinct <= 100 then 1 else 0 end as Brooklyn,\n",
    "        case when Precinct >= 100 AND Precinct <= 120 then 1 else 0 end as Queens,\n",
    "        case when Precinct >= 120 AND Precinct <= 125 then 1 else 0 end as Staten_Island,\n",
    "\n",
    "        case when Violation = 'NO PARKING-STREET CLEANING' then 1 else 0 end as NO_PARKING_STREET_CLEANING,\n",
    "        case when Violation = 'INSP. STICKER-EXPIRED/MISSING' then 1 else 0 end as INSP_STICKER_EXPIRED_MISSING,\n",
    "        case when Violation = 'FAIL TO DSPLY MUNI METER RECPT' then 1 else 0 end as FAIL_TO_DSPLY_MUNI_METER_RECPT,\n",
    "        case when Violation = 'NO STANDING-DAY/TIME LIMITS' then 1 else 0 end as NO_STANDING_DAY_TIME_LIMITS,\n",
    "        case when Violation = 'FIRE HYDRANT' then 1 else 0 end as FIRE_HYDRANT,\n",
    "        case when Violation = 'REG. STICKER-EXPIRED/MISSING' then 1 else 0 end as REG_STICKER_EXPIRED_MISSING,\n",
    "        case when Violation = 'NO PARKING-DAY/TIME LIMITS' then 1 else 0 end as NO_PARKING_DAY_TIME_LseIMITS,\n",
    "        case when Violation = 'DOUBLE PARKING' then 1 else 0 end as DOUBLE_PARKING,\n",
    "        case when Violation = 'EXPIRED MUNI METER' then 1 else 0 end as EXPIRED_MUNI_METER,\n",
    "        case when Violation = 'FRONT OR BACK PLATE MISSING' then 1 else 0 end as FRONT_OR_BACK_PLATE_MISSING,\n",
    "        case when Violation = 'NO STANDING-BUS STOP' then 1 else 0 end as NO_STANDING_BUS_STOP,\n",
    "        case when Violation = 'NO STANDING-COMM METER ZONE' then 1 else 0 end as NO_STANDING_COMM_METER_ZONE,\n",
    "        case when Violation = 'FAIL TO DISP. MUNI METER RECPT' then 1 else 0 end as FAIL_TO_DISP_MUNI_METER_RECPT,\n",
    "        case when Violation = 'NO STANDING-EXC. TRUCK LOADING' then 1 else 0 end as NO_STANDING_EXC_TRUCK_LOADING,\n",
    "        case when Violation = 'CROSSWALK' then 1 else 0 end as CROSSWALK,\n",
    "        case when Violation = 'NO STANDING-EXC. AUTH. VEHICLE' then 1 else 0 end as NO_STANDING_EXC_AUTH_VEHICLE,\n",
    "        case when Violation = 'DOUBLE PARKING-MIDTOWN COMML' then 1 else 0 end as DOUBLE_PARKING_MIDTOWN_COMML,\n",
    "        case when Violation = 'SIDEWALK' then 1 else 0 end as SIDEWALK,\n",
    "        case when Violation = 'BIKE LANE' then 1 else 0 end as BIKE_LANE,\n",
    "        case when Violation = 'NO MATCH-PLATE/STICKER' then 1 else 0 end as NO_MATCH_PLATE_STICKER,\n",
    "        case when Violation = 'PLTFRM LFTS LWRD POS COMM VEH' then 1 else 0 end as PLTFRM_LFTS_LWRD_POS_COMM_VEH,\n",
    "        case when Violation = 'SAFETY ZONE' then 1 else 0 end as SAFETY_ZONE,\n",
    "        case when Violation = 'OBSTRUCTING DRIVEWAY' then 1 else 0 end as OBSTRUCTING_DRIVEWAY,\n",
    "        case when Violation = 'NO STOPPING-DAY/TIME LIMITS' then 1 else 0 end as NO_STOPPING_DAY_TIME_LIMITS,\n",
    "        case when Violation = 'COMML PLATES-UNALTERED VEHICLE' then 1 else 0 end as COMML_PLATES_UNALTERED_VEHICLE,\n",
    "        case when Violation = 'NGHT PKG ON RESID STR-COMM VEH' then 1 else 0 end as NGHT_PKG_ON_RESID_STR_COMM_VEH,\n",
    "        case when Violation = 'EXPIRED MUNI MTR-COMM MTR ZN' then 1 else 0 end as EXPIRED_MUNI_MTR_COMM_MTR_ZN,\n",
    "        case when Violation = 'OBSTRUCTING TRAFFIC/INTERSECT' then 1 else 0 end as OBSTRUCTING_TRAFFIC_INTERSECT,\n",
    "        case when Violation = 'NO STANDING-BUS LANE' then 1 else 0 end as NO_STANDING_BUS_LANE,\n",
    "        case when Violation = 'INSP STICKER-MUTILATED/CFEIT' then 1 else 0 end as INSP_STICKER_MUTILATED_C_FEIT,\n",
    "        case when Violation = 'STORAGE-3HR COMMERCIAL' then 1 else 0 end as STORAGE_3HR_COMMERCIAL,\n",
    "        case when Violation = 'NON-COMPLIANCE W/ POSTED SIGN' then 1 else 0 end as NON_COMPLIANCE_W_POSTED_SIGN,\n",
    "        case when Violation = 'NO STANDING-TAXI STAND' then 1 else 0 end as NO_STANDING_TAXI_STAND,\n",
    "        case when Violation = 'NO PARKING-EXC. AUTH. VEHICLE' then 1 else 0 end as NO_PARKING_EXC_AUTH_VEHICLE,\n",
    "        case when Violation = 'PEDESTRIAN RAMP' then 1 else 0 end as PEDESTRIAN_RAMP,\n",
    "        case when Violation = 'PARKED BUS-EXC. DESIG. AREA' then 1 else 0 end as PARKED_BUS_EXC_DESIG_AREA,\n",
    "        case when Violation = 'WRONG WAY' then 1 else 0 end as WRONG_WAY,\n",
    "        case when Violation = 'SELLING/OFFERING MCHNDSE-METER' then 1 else 0 end as SELLING_OFFERING_MCHNDSE_METER,\n",
    "        case when Violation = 'EXPIRED METER' then 1 else 0 end as EXPIRED_METER,\n",
    "        case when Violation = 'NO STANDING-HOTEL LOADING' then 1 else 0 end as NO_STANDING_HOTEL_LOADING,\n",
    "        case when Violation = 'REG STICKER-MUTILATED/CFEIT' then 1 else 0 end as REG_STICKER_MUTILATED_C_FEIT,\n",
    "        case when Violation = 'NO STANDING EXCP D/S' then 1 else 0 end as NO_STANDING_EXCP_D_S,\n",
    "        case when Violation = 'ANGLE PARKING' then 1 else 0 end as ANGLE_PARKING,\n",
    "        case when Violation = 'IMPROPER REGISTRATION' then 1 else 0 end as IMPROPER_REGISTRATION,\n",
    "        case when Violation = 'NO PARKING-EXC. HNDICAP PERMIT' then 1 else 0 end as NO_PARKING_EXC_HNDICAP_PERMIT,\n",
    "        case when Violation = 'TRAFFIC LANE' then 1 else 0 end as TRAFFIC_LANE,\n",
    "        case when Violation = 'BEYOND MARKED SPACE' then 1 else 0 end as BEYOND_MARKED_SPACE,\n",
    "        case when Violation = 'NO PARKING-EXC. HOTEL LOADING' then 1 else 0 end as NO_PARKING_EXC_HOTEL_LOADING,\n",
    "        case when Violation = 'MISSING EQUIPMENT' then 1 else 0 end as MISSING_EQUIPMENT,\n",
    "        case when Violation = 'FEEDING METER' then 1 else 0 end as FEEDING_METER,\n",
    "        case when Violation = 'OVERTIME PKG-TIME LIMIT POSTED' then 1 else 0 end as OVERTIME_PKG_TIME_LIMIT_POSTED,\n",
    "        case when Violation = 'DETACHED TRAILER' then 1 else 0 end as DETACHED_TRAILER,\n",
    "        case when Violation = 'TUNNEL/ELEVATED/ROADWAY' then 1 else 0 end as TUNNEL_ELEVATED_ROADWAY,\n",
    "        case when Violation = 'UNAUTHORIZED BUS LAYOVER' then 1 else 0 end as UNAUTHORIZED_BUS_LAYOVER,\n",
    "        case when Violation = 'NO PARKING-TAXI STAND' then 1 else 0 end as NO_PARKING_TAXI_STAND,\n",
    "        case when Violation = 'OTHER' then 1 else 0 end as OTHER,\n",
    "        case when Violation = 'VIN OBSCURED' then 1 else 0 end as VIN_OBSCURED,\n",
    "        case when Violation = 'IDLING' then 1 else 0 end as IDLING,\n",
    "        case when Violation = 'NO STD(EXC TRKS/GMTDST NO-TRK)' then 1 else 0 end as NO_STD_EXC_TRKS_GMTDST_NO_TRK,\n",
    "        case when Violation = 'OVERNIGHT TRACTOR TRAILER PKG' then 1 else 0 end as OVERNIGHT_TRACTOR_TRAILER_PKG,\n",
    "        case when Violation = 'INTERSECTION' then 1 else 0 end as INTERSECTION,\n",
    "        case when Violation = 'UNALTERED COMM VEHICLE' then 1 else 0 end as UNALTERED_COMM_VEHICLE,\n",
    "        case when Violation = 'FAILURE TO DISPLAY BUS PERMIT' then 1 else 0 end as FAILURE_TO_DISPLAY_BUS_PERMIT,\n",
    "        case when Violation = 'NO STANDING-FOR HIRE VEH STOP' then 1 else 0 end as NO_STANDING_FOR_HIRE_VEH_STOP,\n",
    "        case when Violation = 'BUS PARKING IN LOWER MANHATTAN' then 1 else 0 end as BUS_PARKING_IN_LOWER_MANHATTAN,\n",
    "        case when Violation = 'UNAUTHORIZED PASSENGER PICK-UP' then 1 else 0 end as UNAUTHORIZED_PASSENGER_PICK_UP,\n",
    "        case when Violation = 'NIGHTTIME STD/ PKG IN A PARK' then 1 else 0 end as NIGHTTIME_STD_PKG_IN_A_PARK,\n",
    "        case when Violation = 'EXCAVATION-VEHICLE OBSTR TRAFF' then 1 else 0 end as EXCAVATION_VEHICLE_OBSTR_TRAFF,\n",
    "        case when Violation = 'NO STANDING-COMMUTER VAN STOP' then 1 else 0 end as NO_STANDING_COMMUTER_VAN_STOP,\n",
    "        case when Violation = 'DIVIDED HIGHWAY' then 1 else 0 end as DIVIDED_HIGHWAY,\n",
    "        case when Violation = 'NO STOP/STANDNG EXCEPT PAS P/U' then 1 else 0 end as NO_STOP_STANDNG_EXCEPT_PAS_P_U,\n",
    "        case when Violation = 'OT PARKING-MISSING/BROKEN METR' then 1 else 0 end as OT_PARKING_MISSING_BROKEN_METR,\n",
    "        case when Violation = 'VEHICLE FOR SALE(DEALERS ONLY)' then 1 else 0 end as VEHICLE_FOR_SALE_DEALERS_ONLY,\n",
    "        case when Violation = 'NO OPERATOR NAM/ADD/PH DISPLAY' then 1 else 0 end as NO_OPERATOR_NAM_ADD_PH_DISPLAY,\n",
    "        case when Violation = 'ELEVATED/DIVIDED HIGHWAY/TUNNL' then 1 else 0 end as ELEVATED_DIVIDED_HIGHWAY_TUNNL,\n",
    "        case when Violation = 'ANGLE PARKING-COMM VEHICLE' then 1 else 0 end as ANGLE_PARKING_COMM_VEHICLE,\n",
    "        case when Violation = 'RAILROAD CROSSING' then 1 else 0 end as RAILROAD_CROSSING,\n",
    "        case when Violation = 'EXPIRED METER-COMM METER ZONE' then 1 else 0 end as EXPIRED_METER_COMM_METER_ZONE,\n",
    "        case when Violation = 'ALTERING INTERCITY BUS PERMIT' then 1 else 0 end as ALTERING_INTERCITY_BUS_PERMIT,\n",
    "        case when Violation = 'WASH/REPAIR VEHCL-REPAIR ONLY' then 1 else 0 end as WASH_REPAIR_VEHCL_REPAIR_ONLY,\n",
    "        case when Violation = 'PKG IN EXC. OF LIM-COMM MTR ZN' then 1 else 0 end as PKG_IN_EXC_OF_LIM_COMM_MTR_ZN,\n",
    "        case when Violation = 'VACANT LOT' then 1 else 0 end as VACANT_LOT,\n",
    "        case when Violation = 'NO STANDING EXCP DP' then 1 else 0 end as NO_STANDING_EXCP_DP,\n",
    "        case when Violation = 'MIDTOWN PKG OR STD-3HR LIMIT' then 1 else 0 end as MIDTOWN_PKG_OR_STD_3HR_LIMIT,\n",
    "        case when Violation = 'VEH-SALE/WSHNG/RPRNG/DRIVEWAY' then 1 else 0 end as VEH_SALE_WSHNG_RPRNG_DRIVEWAY,\n",
    "        case when Violation = 'MARGINAL STREET/WATER FRONT' then 1 else 0 end as MARGINAL_STREET_WATER_FRONT,\n",
    "        case when Violation = 'OVERTIME STDG D/S' then 1 else 0 end as OVERTIME_STDG_D_S,\n",
    "        case when Violation = 'BUS LANE VIOLATION' then 1 else 0 end as BUS_LANE_VIOLATION,\n",
    "        case when Violation = 'UNALTERED COMM VEH-NME/ADDRESS' then 1 else 0 end as UNALTERED_COMM_VEH_NME_ADDRESS,\n",
    "        case when Violation = 'NO STANDING-OFF-STREET LOT' then 1 else 0 end as NO_STANDING_OFF_STREET_LOT,\n",
    "        case when Violation = 'NO STANDING-SNOW EMERGENCY' then 1 else 0 end as NO_STANDING_SNOW_EMERGENCY,\n",
    "        case when Violation = 'REMOVE/REPLACE FLAT TIRE' then 1 else 0 end as REMOVE_REPLACE_FLAT_TIRE,\n",
    "        case when Violation = 'OVERTIME STANDING DP' then 1 else 0 end as OVERTIME_STANDING_DP,\n",
    "        `Fine Amount` as fine_amount\n",
    "    from \n",
    "        open_violations\n",
    "\n",
    "\n",
    "\"\"\"\n",
    "\n",
    "# query for model training dataset\n",
    "X_y = spark.sql(query)\n",
    "X_y.limit(5).toPandas()"
   ]
  },
  {
   "cell_type": "code",
   "execution_count": 11,
   "id": "490ac7c6-fa4b-444a-b786-a3fb2950c08f",
   "metadata": {
    "tags": []
   },
   "outputs": [
    {
     "name": "stderr",
     "output_type": "stream",
     "text": [
      "                                                                                \r"
     ]
    }
   ],
   "source": [
    "# convert to dask - write training set to parquet\n",
    "X_y.repartition(1).write.mode('overwrite').parquet('tmp/regression_dataset')"
   ]
  },
  {
   "cell_type": "code",
   "execution_count": 78,
   "id": "4a18a9ae-6681-4be4-8cf4-f15163194b64",
   "metadata": {
    "tags": []
   },
   "outputs": [],
   "source": [
    "# convert to dask - read from parquet to dask dataframe\n",
    "X_y = dd.read_parquet('/Users/maludee/repos/Big-Data-Project/notebooks/tmp/regression_dataset/*.parquet')  "
   ]
  },
  {
   "cell_type": "code",
   "execution_count": 79,
   "id": "34cee48f-d4a7-4105-b170-055a97100aae",
   "metadata": {
    "tags": []
   },
   "outputs": [],
   "source": [
    "# drop nans\n",
    "X_y = X_y.dropna()"
   ]
  },
  {
   "cell_type": "code",
   "execution_count": 80,
   "id": "a600b1a9-b85a-480d-bb3c-343e7f02e96c",
   "metadata": {
    "tags": []
   },
   "outputs": [],
   "source": [
    "# get columns where all the values are 0\n",
    "sums = X_y.sum().reset_index().compute()\n",
    "sums.columns = ['field', 'sum']\n",
    "zero_cols = sums.loc[sums['sum'] == 0]['field'].tolist()"
   ]
  },
  {
   "cell_type": "code",
   "execution_count": 110,
   "id": "61edeb6b-4188-4c87-9d96-231cda19ef5c",
   "metadata": {
    "tags": []
   },
   "outputs": [],
   "source": [
    "# set columns to exclude from the training set\n",
    "cols_to_exclude = zero_cols + ['year', 'fine_amount'] \n",
    "X_cols = [i for i in X_y.columns.tolist() if i not in cols_to_exclude]"
   ]
  },
  {
   "cell_type": "code",
   "execution_count": 111,
   "id": "f2b0d6c0-2029-4771-b510-cda2b78235eb",
   "metadata": {
    "tags": []
   },
   "outputs": [],
   "source": [
    "# partition train and test sets by year\n",
    "X_y_train = X_y[X_y['year'] <= 2020]\n",
    "X_y_test = X_y[X_y['year'] > 2020]\n",
    "\n",
    "X_train = X_y_train[X_cols].to_dask_array()\n",
    "y_train = X_y_train['fine_amount'].to_dask_array()\n",
    "\n",
    "X_test = X_y_test[X_cols].to_dask_array()\n",
    "y_test = X_y_test['fine_amount'].to_dask_array()"
   ]
  },
  {
   "cell_type": "code",
   "execution_count": 113,
   "id": "911233a0-da3a-4780-902b-cae9664adcf3",
   "metadata": {
    "tags": []
   },
   "outputs": [
    {
     "data": {
      "text/html": [
       "<table>\n",
       "    <tr>\n",
       "        <td>\n",
       "            <table style=\"border-collapse: collapse;\">\n",
       "                <thead>\n",
       "                    <tr>\n",
       "                        <td> </td>\n",
       "                        <th> Array </th>\n",
       "                        <th> Chunk </th>\n",
       "                    </tr>\n",
       "                </thead>\n",
       "                <tbody>\n",
       "                    \n",
       "                    <tr>\n",
       "                        <th> Bytes </th>\n",
       "                        <td> 3.54 MiB </td>\n",
       "                        <td> 3.54 MiB </td>\n",
       "                    </tr>\n",
       "                    \n",
       "                    <tr>\n",
       "                        <th> Shape </th>\n",
       "                        <td> (464093,) </td>\n",
       "                        <td> (464093,) </td>\n",
       "                    </tr>\n",
       "                    <tr>\n",
       "                        <th> Dask graph </th>\n",
       "                        <td colspan=\"2\"> 1 chunks in 7 graph layers </td>\n",
       "                    </tr>\n",
       "                    <tr>\n",
       "                        <th> Data type </th>\n",
       "                        <td colspan=\"2\"> float64 numpy.ndarray </td>\n",
       "                    </tr>\n",
       "                </tbody>\n",
       "            </table>\n",
       "        </td>\n",
       "        <td>\n",
       "        <svg width=\"170\" height=\"75\" style=\"stroke:rgb(0,0,0);stroke-width:1\" >\n",
       "\n",
       "  <!-- Horizontal lines -->\n",
       "  <line x1=\"0\" y1=\"0\" x2=\"120\" y2=\"0\" style=\"stroke-width:2\" />\n",
       "  <line x1=\"0\" y1=\"25\" x2=\"120\" y2=\"25\" style=\"stroke-width:2\" />\n",
       "\n",
       "  <!-- Vertical lines -->\n",
       "  <line x1=\"0\" y1=\"0\" x2=\"0\" y2=\"25\" style=\"stroke-width:2\" />\n",
       "  <line x1=\"120\" y1=\"0\" x2=\"120\" y2=\"25\" style=\"stroke-width:2\" />\n",
       "\n",
       "  <!-- Colored Rectangle -->\n",
       "  <polygon points=\"0.0,0.0 120.0,0.0 120.0,25.412616514582485 0.0,25.412616514582485\" style=\"fill:#ECB172A0;stroke-width:0\"/>\n",
       "\n",
       "  <!-- Text -->\n",
       "  <text x=\"60.000000\" y=\"45.412617\" font-size=\"1.0rem\" font-weight=\"100\" text-anchor=\"middle\" >464093</text>\n",
       "  <text x=\"140.000000\" y=\"12.706308\" font-size=\"1.0rem\" font-weight=\"100\" text-anchor=\"middle\" transform=\"rotate(0,140.000000,12.706308)\">1</text>\n",
       "</svg>\n",
       "        </td>\n",
       "    </tr>\n",
       "</table>"
      ],
      "text/plain": [
       "dask.array<values, shape=(464093,), dtype=float64, chunksize=(464093,), chunktype=numpy.ndarray>"
      ]
     },
     "execution_count": 113,
     "metadata": {},
     "output_type": "execute_result"
    }
   ],
   "source": [
    "# this is needed to get the arrays to compute? \n",
    "X_train.compute_chunk_sizes()\n",
    "y_train.compute_chunk_sizes()\n",
    "\n",
    "X_test.compute_chunk_sizes()\n",
    "y_test.compute_chunk_sizes()"
   ]
  },
  {
   "cell_type": "code",
   "execution_count": 114,
   "id": "f8f6d226-50b3-408e-bdc1-f7a6486ed7a5",
   "metadata": {
    "tags": []
   },
   "outputs": [
    {
     "data": {
      "text/html": [
       "<style>#sk-container-id-2 {color: black;background-color: white;}#sk-container-id-2 pre{padding: 0;}#sk-container-id-2 div.sk-toggleable {background-color: white;}#sk-container-id-2 label.sk-toggleable__label {cursor: pointer;display: block;width: 100%;margin-bottom: 0;padding: 0.3em;box-sizing: border-box;text-align: center;}#sk-container-id-2 label.sk-toggleable__label-arrow:before {content: \"▸\";float: left;margin-right: 0.25em;color: #696969;}#sk-container-id-2 label.sk-toggleable__label-arrow:hover:before {color: black;}#sk-container-id-2 div.sk-estimator:hover label.sk-toggleable__label-arrow:before {color: black;}#sk-container-id-2 div.sk-toggleable__content {max-height: 0;max-width: 0;overflow: hidden;text-align: left;background-color: #f0f8ff;}#sk-container-id-2 div.sk-toggleable__content pre {margin: 0.2em;color: black;border-radius: 0.25em;background-color: #f0f8ff;}#sk-container-id-2 input.sk-toggleable__control:checked~div.sk-toggleable__content {max-height: 200px;max-width: 100%;overflow: auto;}#sk-container-id-2 input.sk-toggleable__control:checked~label.sk-toggleable__label-arrow:before {content: \"▾\";}#sk-container-id-2 div.sk-estimator input.sk-toggleable__control:checked~label.sk-toggleable__label {background-color: #d4ebff;}#sk-container-id-2 div.sk-label input.sk-toggleable__control:checked~label.sk-toggleable__label {background-color: #d4ebff;}#sk-container-id-2 input.sk-hidden--visually {border: 0;clip: rect(1px 1px 1px 1px);clip: rect(1px, 1px, 1px, 1px);height: 1px;margin: -1px;overflow: hidden;padding: 0;position: absolute;width: 1px;}#sk-container-id-2 div.sk-estimator {font-family: monospace;background-color: #f0f8ff;border: 1px dotted black;border-radius: 0.25em;box-sizing: border-box;margin-bottom: 0.5em;}#sk-container-id-2 div.sk-estimator:hover {background-color: #d4ebff;}#sk-container-id-2 div.sk-parallel-item::after {content: \"\";width: 100%;border-bottom: 1px solid gray;flex-grow: 1;}#sk-container-id-2 div.sk-label:hover label.sk-toggleable__label {background-color: #d4ebff;}#sk-container-id-2 div.sk-serial::before {content: \"\";position: absolute;border-left: 1px solid gray;box-sizing: border-box;top: 0;bottom: 0;left: 50%;z-index: 0;}#sk-container-id-2 div.sk-serial {display: flex;flex-direction: column;align-items: center;background-color: white;padding-right: 0.2em;padding-left: 0.2em;position: relative;}#sk-container-id-2 div.sk-item {position: relative;z-index: 1;}#sk-container-id-2 div.sk-parallel {display: flex;align-items: stretch;justify-content: center;background-color: white;position: relative;}#sk-container-id-2 div.sk-item::before, #sk-container-id-2 div.sk-parallel-item::before {content: \"\";position: absolute;border-left: 1px solid gray;box-sizing: border-box;top: 0;bottom: 0;left: 50%;z-index: -1;}#sk-container-id-2 div.sk-parallel-item {display: flex;flex-direction: column;z-index: 1;position: relative;background-color: white;}#sk-container-id-2 div.sk-parallel-item:first-child::after {align-self: flex-end;width: 50%;}#sk-container-id-2 div.sk-parallel-item:last-child::after {align-self: flex-start;width: 50%;}#sk-container-id-2 div.sk-parallel-item:only-child::after {width: 0;}#sk-container-id-2 div.sk-dashed-wrapped {border: 1px dashed gray;margin: 0 0.4em 0.5em 0.4em;box-sizing: border-box;padding-bottom: 0.4em;background-color: white;}#sk-container-id-2 div.sk-label label {font-family: monospace;font-weight: bold;display: inline-block;line-height: 1.2em;}#sk-container-id-2 div.sk-label-container {text-align: center;}#sk-container-id-2 div.sk-container {/* jupyter's `normalize.less` sets `[hidden] { display: none; }` but bootstrap.min.css set `[hidden] { display: none !important; }` so we also need the `!important` here to be able to override the default hidden behavior on the sphinx rendered scikit-learn.org. See: https://github.com/scikit-learn/scikit-learn/issues/21755 */display: inline-block !important;position: relative;}#sk-container-id-2 div.sk-text-repr-fallback {display: none;}</style><div id=\"sk-container-id-2\" class=\"sk-top-container\"><div class=\"sk-text-repr-fallback\"><pre>LinearRegression(solver_kwargs={&#x27;normalize&#x27;: False})</pre><b>In a Jupyter environment, please rerun this cell to show the HTML representation or trust the notebook. <br />On GitHub, the HTML representation is unable to render, please try loading this page with nbviewer.org.</b></div><div class=\"sk-container\" hidden><div class=\"sk-item\"><div class=\"sk-estimator sk-toggleable\"><input class=\"sk-toggleable__control sk-hidden--visually\" id=\"sk-estimator-id-2\" type=\"checkbox\" checked><label for=\"sk-estimator-id-2\" class=\"sk-toggleable__label sk-toggleable__label-arrow\">LinearRegression</label><div class=\"sk-toggleable__content\"><pre>LinearRegression(solver_kwargs={&#x27;normalize&#x27;: False})</pre></div></div></div></div></div>"
      ],
      "text/plain": [
       "LinearRegression(solver_kwargs={'normalize': False})"
      ]
     },
     "execution_count": 114,
     "metadata": {},
     "output_type": "execute_result"
    }
   ],
   "source": [
    "# train the model\n",
    "lr = LinearRegression(solver_kwargs={\"normalize\":False})\n",
    "lr.fit(X_train, y_train)"
   ]
  },
  {
   "cell_type": "code",
   "execution_count": 115,
   "id": "4a8b7b37-b0d0-497b-8cbe-a58a00a92887",
   "metadata": {
    "tags": []
   },
   "outputs": [
    {
     "data": {
      "text/plain": [
       "0.8403052594190684"
      ]
     },
     "execution_count": 115,
     "metadata": {},
     "output_type": "execute_result"
    }
   ],
   "source": [
    "# get predictions\n",
    "yhat = lr.predict(X_test)\n",
    "\n",
    "# return r^2\n",
    "lr.score(X_test, y_test)"
   ]
  },
  {
   "cell_type": "code",
   "execution_count": 104,
   "id": "8754d15d-fb55-44c5-93d7-4b4137f81230",
   "metadata": {
    "tags": []
   },
   "outputs": [
    {
     "data": {
      "text/plain": [
       "array([ 65.,  65.,  65.,  65.,  65.,  65.,  65.,  65.,  65., 115., 165.,\n",
       "        65., 115., 115., 115.,  65.,  60.,  65.,  65.,  65.,  65., 115.,\n",
       "        65.,  65.,  65., 115., 115., 115., 115.,  35.])"
      ]
     },
     "execution_count": 104,
     "metadata": {},
     "output_type": "execute_result"
    }
   ],
   "source": [
    "y_test[:30].compute()"
   ]
  },
  {
   "cell_type": "code",
   "execution_count": 84,
   "id": "f785b501-3531-4066-aed7-589adafb4aae",
   "metadata": {
    "tags": []
   },
   "outputs": [
    {
     "data": {
      "text/plain": [
       "array([64.2075422 , 64.2075422 , 79.63405777, 64.2075422 , 64.2075422 ,\n",
       "       62.45600269, 62.45600269, 79.63405777, 62.45600269, 62.45600269,\n",
       "       62.45600269, 64.2075422 , 64.2075422 , 81.38559728, 79.63405777,\n",
       "       64.2075422 , 62.45600269, 64.2075422 , 81.38559728, 62.45600269,\n",
       "       62.45600269, 62.45600269, 64.2075422 , 81.38559728, 62.45600269,\n",
       "       73.99390961, 62.45600269, 62.45600269, 62.45600269, 62.45600269])"
      ]
     },
     "execution_count": 84,
     "metadata": {},
     "output_type": "execute_result"
    }
   ],
   "source": [
    "yhat[:30].compute()"
   ]
  },
  {
   "cell_type": "code",
   "execution_count": 142,
   "id": "2f4245f6-886e-49db-a04d-c34988e19552",
   "metadata": {},
   "outputs": [
    {
     "data": {
      "text/plain": [
       "(0.0, 250.0)"
      ]
     },
     "execution_count": 142,
     "metadata": {},
     "output_type": "execute_result"
    },
    {
     "data": {
      "image/png": "[encoded data removed]",
      "text/plain": [
       "<Figure size 640x480 with 1 Axes>"
      ]
     },
     "metadata": {},
     "output_type": "display_data"
    }
   ],
   "source": [
    "# make chart to visualize the results\n",
    "ddf = dd.concat([dd.from_dask_array(c) for c in [y_test,yhat]], axis = 1) \n",
    "\n",
    "ddf.columns = ['ytest', 'yhat']\n",
    "ddf_sampled = ddf.sample(frac=0.05).compute()\n",
    "\n",
    "plt.plot(ddf_sampled['yhat'], ddf_sampled['ytest'], 'o', alpha=0.25)\n",
    "plt.xlabel('Predicted Fine Amount')\n",
    "plt.ylabel(\"Actual Fine Amount\")\n",
    "plt.title('Predicted Fines vs. Actuals')\n",
    "plt.ylim([0,250])\n",
    "plt.xlim([0,250])\n"
   ]
  },
  {
   "cell_type": "code",
   "execution_count": null,
   "id": "a5b27d4d-6e9e-4e1d-85f6-71241bb02da8",
   "metadata": {},
   "outputs": [],
   "source": []
  }
 ],
 "metadata": {
  "kernelspec": {
   "display_name": "Python 3 (ipykernel)",
   "language": "python",
   "name": "python3"
  },
  "language_info": {
   "codemirror_mode": {
    "name": "ipython",
    "version": 3
   },
   "file_extension": ".py",
   "mimetype": "text/x-python",
   "name": "python",
   "nbconvert_exporter": "python",
   "pygments_lexer": "ipython3",
   "version": "3.8.16"
  }
 },
 "nbformat": 4,
 "nbformat_minor": 5
}
