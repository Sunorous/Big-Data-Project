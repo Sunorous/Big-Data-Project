{
 "cells": [
  {
   "cell_type": "code",
   "execution_count": 1,
   "id": "083a55fc-ba8b-4b91-93ae-8a5935a63a95",
   "metadata": {},
   "outputs": [
    {
     "name": "stdout",
     "output_type": "stream",
     "text": [
      "23/05/02 19:26:50 WARN Utils: Your hostname, MacBook-Air-2.local resolves to a loopback address: 127.0.0.1; using 192.168.0.216 instead (on interface en0)\n",
      "23/05/02 19:26:50 WARN Utils: Set SPARK_LOCAL_IP if you need to bind to another address\n"
     ]
    },
    {
     "name": "stderr",
     "output_type": "stream",
     "text": [
      "Setting default log level to \"WARN\".\n",
      "To adjust logging level use sc.setLogLevel(newLevel). For SparkR, use setLogLevel(newLevel).\n"
     ]
    },
    {
     "name": "stdout",
     "output_type": "stream",
     "text": [
      "23/05/02 19:26:50 WARN NativeCodeLoader: Unable to load native-hadoop library for your platform... using builtin-java classes where applicable\n",
      "23/05/02 19:26:51 WARN Utils: Service 'SparkUI' could not bind on port 4040. Attempting port 4041.\n",
      "23/05/02 19:26:51 WARN Utils: Service 'SparkUI' could not bind on port 4041. Attempting port 4042.\n"
     ]
    },
    {
     "name": "stderr",
     "output_type": "stream",
     "text": [
      "WARNING:root:Requests made without an app_token will be subject to strict throttling limits.\n"
     ]
    }
   ],
   "source": [
    "import pandas as pd\n",
    "from sodapy import Socrata\n",
    "import pyspark\n",
    "import json\n",
    "\n",
    "conf = pyspark.SparkConf()\n",
    "sc = pyspark.SparkContext(conf=conf)\n",
    "spark = pyspark.sql.SparkSession(sc)\n",
    "\n",
    "client = Socrata(\"data.cityofnewyork.us\", None)"
   ]
  },
  {
   "cell_type": "code",
   "execution_count": 2,
   "id": "b49f2620-268a-4de4-8465-6926e6e5d71e",
   "metadata": {
    "tags": []
   },
   "outputs": [],
   "source": [
    "data_2014 = 'jt7v-77mi'\n",
    "data_2015 = 'c284-tqph'\n",
    "data_2016 = 'kiv2-tbus'\n",
    "data_2016 = 'uu62-ifvu'\n",
    "data_2017 = '2bnn-yakx'\n",
    "data_2018 = 'a5td-mswe'\n",
    "data_2019 = 'faiq-9dfq'\n",
    "data_2020 = 'p7t3-5i9s'\n",
    "data_2021 = 'kvfd-bves'\n",
    "data_2022 = '7mxj-7a6y'\n",
    "data_2023 = 'pvqr-7yc4'\n",
    "\n",
    "main_data = \"nc67-uf89\""
   ]
  },
  {
   "cell_type": "code",
   "execution_count": 3,
   "id": "c42f940c-df18-47ed-9761-6d79e97d2092",
   "metadata": {
    "tags": []
   },
   "outputs": [],
   "source": [
    "# First 2000 results, returned as JSON from API / converted to Python list of\n",
    "# dictionaries by sodapy.\n",
    "res_list = []\n",
    "offset = 0\n",
    "for i in range(2):    \n",
    "    results = client.get(main_data, limit=50000, offset=offset)\n",
    "    res_list.append(results)\n",
    "    offset = offset + 50000"
   ]
  },
  {
   "cell_type": "code",
   "execution_count": 4,
   "id": "6ebe0ccd-7f64-453f-ba65-28db90f9e385",
   "metadata": {
    "tags": []
   },
   "outputs": [
    {
     "name": "stderr",
     "output_type": "stream",
     "text": [
      "[Stage 0:>                                                          (0 + 0) / 8]\r"
     ]
    },
    {
     "name": "stdout",
     "output_type": "stream",
     "text": [
      "23/05/02 19:27:04 WARN TaskSetManager: Stage 0 contains a task of very large size (14993 KiB). The maximum recommended task size is 1000 KiB.\n"
     ]
    },
    {
     "name": "stderr",
     "output_type": "stream",
     "text": [
      "                                                                                \r"
     ]
    }
   ],
   "source": [
    "df = sc.parallelize(res_list).map(lambda x: json.dumps(x))\n",
    "df = spark.read.json(df)"
   ]
  },
  {
   "cell_type": "code",
   "execution_count": 5,
   "id": "5fb83b4f-ca3f-4b13-b497-982ec082d7f5",
   "metadata": {
    "tags": []
   },
   "outputs": [
    {
     "name": "stdout",
     "output_type": "stream",
     "text": [
      "root\n",
      " |-- amount_due: string (nullable = true)\n",
      " |-- county: string (nullable = true)\n",
      " |-- fine_amount: string (nullable = true)\n",
      " |-- interest_amount: string (nullable = true)\n",
      " |-- issue_date: string (nullable = true)\n",
      " |-- issuing_agency: string (nullable = true)\n",
      " |-- judgment_entry_date: string (nullable = true)\n",
      " |-- license_type: string (nullable = true)\n",
      " |-- payment_amount: string (nullable = true)\n",
      " |-- penalty_amount: string (nullable = true)\n",
      " |-- plate: string (nullable = true)\n",
      " |-- precinct: string (nullable = true)\n",
      " |-- reduction_amount: string (nullable = true)\n",
      " |-- state: string (nullable = true)\n",
      " |-- summons_image: struct (nullable = true)\n",
      " |    |-- description: string (nullable = true)\n",
      " |    |-- url: string (nullable = true)\n",
      " |-- summons_number: string (nullable = true)\n",
      " |-- violation: string (nullable = true)\n",
      " |-- violation_status: string (nullable = true)\n",
      " |-- violation_time: string (nullable = true)\n",
      "\n"
     ]
    }
   ],
   "source": [
    "df.printSchema()"
   ]
  },
  {
   "cell_type": "code",
   "execution_count": 6,
   "id": "c02e7bbd-e2f3-4696-b492-bf712b6c97eb",
   "metadata": {
    "tags": []
   },
   "outputs": [
    {
     "name": "stdout",
     "output_type": "stream",
     "text": [
      "23/05/02 19:27:12 WARN TaskSetManager: Stage 2 contains a task of very large size (14993 KiB). The maximum recommended task size is 1000 KiB.\n"
     ]
    },
    {
     "name": "stderr",
     "output_type": "stream",
     "text": [
      "                                                                                \r"
     ]
    },
    {
     "data": {
      "text/html": [
       "<div>\n",
       "<style scoped>\n",
       "    .dataframe tbody tr th:only-of-type {\n",
       "        vertical-align: middle;\n",
       "    }\n",
       "\n",
       "    .dataframe tbody tr th {\n",
       "        vertical-align: top;\n",
       "    }\n",
       "\n",
       "    .dataframe thead th {\n",
       "        text-align: right;\n",
       "    }\n",
       "</style>\n",
       "<table border=\"1\" class=\"dataframe\">\n",
       "  <thead>\n",
       "    <tr style=\"text-align: right;\">\n",
       "      <th></th>\n",
       "      <th>amount_due</th>\n",
       "      <th>county</th>\n",
       "      <th>fine_amount</th>\n",
       "      <th>interest_amount</th>\n",
       "      <th>issue_date</th>\n",
       "      <th>issuing_agency</th>\n",
       "      <th>judgment_entry_date</th>\n",
       "      <th>license_type</th>\n",
       "      <th>payment_amount</th>\n",
       "      <th>penalty_amount</th>\n",
       "      <th>plate</th>\n",
       "      <th>precinct</th>\n",
       "      <th>reduction_amount</th>\n",
       "      <th>state</th>\n",
       "      <th>summons_image</th>\n",
       "      <th>summons_number</th>\n",
       "      <th>violation</th>\n",
       "      <th>violation_status</th>\n",
       "      <th>violation_time</th>\n",
       "    </tr>\n",
       "  </thead>\n",
       "  <tbody>\n",
       "    <tr>\n",
       "      <th>0</th>\n",
       "      <td>0</td>\n",
       "      <td>K</td>\n",
       "      <td>35</td>\n",
       "      <td>0</td>\n",
       "      <td>08/03/2018</td>\n",
       "      <td>TRAFFIC</td>\n",
       "      <td>None</td>\n",
       "      <td>PAS</td>\n",
       "      <td>35</td>\n",
       "      <td>0</td>\n",
       "      <td>FFC4982</td>\n",
       "      <td>060</td>\n",
       "      <td>0</td>\n",
       "      <td>NY</td>\n",
       "      <td>(View Summons, http://nycserv.nyc.gov/NYCServW...</td>\n",
       "      <td>8661033100</td>\n",
       "      <td>FAIL TO DSPLY MUNI METER RECPT</td>\n",
       "      <td>None</td>\n",
       "      <td>08:16P</td>\n",
       "    </tr>\n",
       "    <tr>\n",
       "      <th>1</th>\n",
       "      <td>0</td>\n",
       "      <td>BX</td>\n",
       "      <td>35</td>\n",
       "      <td>0</td>\n",
       "      <td>04/27/2018</td>\n",
       "      <td>TRAFFIC</td>\n",
       "      <td>None</td>\n",
       "      <td>PAS</td>\n",
       "      <td>65</td>\n",
       "      <td>30</td>\n",
       "      <td>BTM5131</td>\n",
       "      <td>049</td>\n",
       "      <td>0</td>\n",
       "      <td>NY</td>\n",
       "      <td>(View Summons, http://nycserv.nyc.gov/NYCServW...</td>\n",
       "      <td>8541152224</td>\n",
       "      <td>FAIL TO DSPLY MUNI METER RECPT</td>\n",
       "      <td>HEARING HELD-GUILTY</td>\n",
       "      <td>01:15P</td>\n",
       "    </tr>\n",
       "    <tr>\n",
       "      <th>2</th>\n",
       "      <td>0</td>\n",
       "      <td>BX</td>\n",
       "      <td>35</td>\n",
       "      <td>0</td>\n",
       "      <td>04/30/2018</td>\n",
       "      <td>TRAFFIC</td>\n",
       "      <td>None</td>\n",
       "      <td>PAS</td>\n",
       "      <td>95</td>\n",
       "      <td>60</td>\n",
       "      <td>HNY4992</td>\n",
       "      <td>047</td>\n",
       "      <td>0</td>\n",
       "      <td>NY</td>\n",
       "      <td>(View Summons, http://nycserv.nyc.gov/NYCServW...</td>\n",
       "      <td>8541152327</td>\n",
       "      <td>FAIL TO DSPLY MUNI METER RECPT</td>\n",
       "      <td>None</td>\n",
       "      <td>01:14P</td>\n",
       "    </tr>\n",
       "  </tbody>\n",
       "</table>\n",
       "</div>"
      ],
      "text/plain": [
       "  amount_due county fine_amount interest_amount  issue_date issuing_agency  \\\n",
       "0          0      K          35               0  08/03/2018        TRAFFIC   \n",
       "1          0     BX          35               0  04/27/2018        TRAFFIC   \n",
       "2          0     BX          35               0  04/30/2018        TRAFFIC   \n",
       "\n",
       "  judgment_entry_date license_type payment_amount penalty_amount    plate  \\\n",
       "0                None          PAS             35              0  FFC4982   \n",
       "1                None          PAS             65             30  BTM5131   \n",
       "2                None          PAS             95             60  HNY4992   \n",
       "\n",
       "  precinct reduction_amount state  \\\n",
       "0      060                0    NY   \n",
       "1      049                0    NY   \n",
       "2      047                0    NY   \n",
       "\n",
       "                                       summons_image summons_number  \\\n",
       "0  (View Summons, http://nycserv.nyc.gov/NYCServW...     8661033100   \n",
       "1  (View Summons, http://nycserv.nyc.gov/NYCServW...     8541152224   \n",
       "2  (View Summons, http://nycserv.nyc.gov/NYCServW...     8541152327   \n",
       "\n",
       "                        violation     violation_status violation_time  \n",
       "0  FAIL TO DSPLY MUNI METER RECPT                 None         08:16P  \n",
       "1  FAIL TO DSPLY MUNI METER RECPT  HEARING HELD-GUILTY         01:15P  \n",
       "2  FAIL TO DSPLY MUNI METER RECPT                 None         01:14P  "
      ]
     },
     "execution_count": 6,
     "metadata": {},
     "output_type": "execute_result"
    }
   ],
   "source": [
    "df.limit(3).toPandas()"
   ]
  },
  {
   "cell_type": "code",
   "execution_count": 7,
   "id": "e80e243a-e8de-4351-9e3a-7dd10740749f",
   "metadata": {
    "tags": []
   },
   "outputs": [
    {
     "name": "stdout",
     "output_type": "stream",
     "text": [
      "23/05/02 19:27:15 WARN TaskSetManager: Stage 3 contains a task of very large size (14993 KiB). The maximum recommended task size is 1000 KiB.\n"
     ]
    },
    {
     "name": "stderr",
     "output_type": "stream",
     "text": [
      "                                                                                \r"
     ]
    },
    {
     "data": {
      "text/plain": [
       "100000"
      ]
     },
     "execution_count": 7,
     "metadata": {},
     "output_type": "execute_result"
    }
   ],
   "source": [
    "df.count()"
   ]
  },
  {
   "cell_type": "code",
   "execution_count": null,
   "id": "651a4a39-c6d5-40f8-9f82-d93e2e757e05",
   "metadata": {},
   "outputs": [],
   "source": []
  }
 ],
 "metadata": {
  "kernelspec": {
   "display_name": "Python 3 (ipykernel)",
   "language": "python",
   "name": "python3"
  },
  "language_info": {
   "codemirror_mode": {
    "name": "ipython",
    "version": 3
   },
   "file_extension": ".py",
   "mimetype": "text/x-python",
   "name": "python",
   "nbconvert_exporter": "python",
   "pygments_lexer": "ipython3",
   "version": "3.8.16"
  }
 },
 "nbformat": 4,
 "nbformat_minor": 5
}
