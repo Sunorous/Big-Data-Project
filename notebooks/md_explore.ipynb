{
 "cells": [
  {
   "cell_type": "code",
   "execution_count": 1,
   "id": "083a55fc-ba8b-4b91-93ae-8a5935a63a95",
   "metadata": {},
   "outputs": [
    {
     "name": "stderr",
     "output_type": "stream",
     "text": [
      "Setting default log level to \"WARN\".\n",
      "To adjust logging level use sc.setLogLevel(newLevel). For SparkR, use setLogLevel(newLevel).\n"
     ]
    },
    {
     "name": "stdout",
     "output_type": "stream",
     "text": [
      "23/05/05 23:19:52 WARN NativeCodeLoader: Unable to load native-hadoop library for your platform... using builtin-java classes where applicable\n",
      "23/05/05 23:19:53 WARN Utils: Service 'SparkUI' could not bind on port 4040. Attempting port 4041.\n",
      "23/05/05 23:19:53 WARN Utils: Service 'SparkUI' could not bind on port 4041. Attempting port 4042.\n"
     ]
    }
   ],
   "source": [
    "import pandas as pd\n",
    "from sodapy import Socrata\n",
    "import pyspark\n",
    "import json\n",
    "\n",
    "conf = pyspark.SparkConf()\n",
    "sc = pyspark.SparkContext(conf=conf)\n",
    "spark = pyspark.sql.SparkSession(sc)\n",
    "\n",
    "import dask.dataframe as dd\n",
    "from dask_glm.datasets import make_regression\n",
    "from dask_ml.linear_model import LinearRegression\n",
    "\n",
    "from pyspark.sql.functions import col, when"
   ]
  },
  {
   "cell_type": "code",
   "execution_count": null,
   "id": "9b97d4e2-7ce9-4faf-96d4-446d30c7ae78",
   "metadata": {
    "tags": []
   },
   "outputs": [],
   "source": []
  },
  {
   "cell_type": "code",
   "execution_count": 2,
   "id": "3e96fc81-dca1-4795-bfb7-eeb4490eec39",
   "metadata": {
    "tags": []
   },
   "outputs": [],
   "source": [
    "test_data_path = '/Users/maludee/repos/Big-Data-Project/data/Parking_Violations_Issued_-_Fiscal_Year_2023.csv'\n",
    "open_data_path = '/Users/maludee/repos/Big-Data-Project/data/Open_Parking_and_Camera_Violations.csv'\n",
    "precinct_data_path = \"/Users/maludee/repos/Big-Data-Project/data/nypp.csv\""
   ]
  },
  {
   "cell_type": "markdown",
   "id": "597d29a6-7b2b-4fa1-bce7-fd39c6633968",
   "metadata": {},
   "source": [
    "# Precinct Map for Tableau"
   ]
  },
  {
   "cell_type": "code",
   "execution_count": 3,
   "id": "354c55b6-c824-4354-8afe-8c83bbe108dc",
   "metadata": {
    "tags": []
   },
   "outputs": [
    {
     "name": "stderr",
     "output_type": "stream",
     "text": [
      "                                                                                \r"
     ]
    },
    {
     "name": "stdout",
     "output_type": "stream",
     "text": [
      "23/05/05 23:11:25 WARN package: Truncated the string representation of a plan since it was too large. This behavior can be adjusted by setting 'spark.sql.debug.maxToStringFields'.\n"
     ]
    },
    {
     "name": "stderr",
     "output_type": "stream",
     "text": [
      "                                                                                \r"
     ]
    }
   ],
   "source": [
    "# YEARLY PARKING DATA - FOR TABLEAU\n",
    "df = spark.read \\\n",
    "    .option(\"header\", \"true\") \\\n",
    "    .option(\"inferSchema\", \"true\") \\\n",
    "    .csv(test_data_path)\n",
    "\n",
    "df.repartition(1).write.mode('overwrite').parquet('tmp/parking_2023')\n",
    "\n",
    "df = spark.read.parquet('/Users/maludee/repos/Big-Data-Project/notebooks/tmp/parking_2023/*.parquet')"
   ]
  },
  {
   "cell_type": "code",
   "execution_count": 4,
   "id": "7fe91273-e265-4ad8-9499-792001b9bb81",
   "metadata": {
    "tags": []
   },
   "outputs": [
    {
     "name": "stdout",
     "output_type": "stream",
     "text": [
      "root\n",
      " |-- Summons Number: long (nullable = true)\n",
      " |-- Plate ID: string (nullable = true)\n",
      " |-- Registration State: string (nullable = true)\n",
      " |-- Plate Type: string (nullable = true)\n",
      " |-- Issue Date: string (nullable = true)\n",
      " |-- Violation Code: integer (nullable = true)\n",
      " |-- Vehicle Body Type: string (nullable = true)\n",
      " |-- Vehicle Make: string (nullable = true)\n",
      " |-- Issuing Agency: string (nullable = true)\n",
      " |-- Street Code1: integer (nullable = true)\n",
      " |-- Street Code2: integer (nullable = true)\n",
      " |-- Street Code3: integer (nullable = true)\n",
      " |-- Vehicle Expiration Date: integer (nullable = true)\n",
      " |-- Violation Location: integer (nullable = true)\n",
      " |-- Violation Precinct: integer (nullable = true)\n",
      " |-- Issuer Precinct: integer (nullable = true)\n",
      " |-- Issuer Code: integer (nullable = true)\n",
      " |-- Issuer Command: string (nullable = true)\n",
      " |-- Issuer Squad: string (nullable = true)\n",
      " |-- Violation Time: string (nullable = true)\n",
      " |-- Time First Observed: string (nullable = true)\n",
      " |-- Violation County: string (nullable = true)\n",
      " |-- Violation In Front Of Or Opposite: string (nullable = true)\n",
      " |-- House Number: string (nullable = true)\n",
      " |-- Street Name: string (nullable = true)\n",
      " |-- Intersecting Street: string (nullable = true)\n",
      " |-- Date First Observed: integer (nullable = true)\n",
      " |-- Law Section: integer (nullable = true)\n",
      " |-- Sub Division: string (nullable = true)\n",
      " |-- Violation Legal Code: string (nullable = true)\n",
      " |-- Days Parking In Effect    : string (nullable = true)\n",
      " |-- From Hours In Effect: string (nullable = true)\n",
      " |-- To Hours In Effect: string (nullable = true)\n",
      " |-- Vehicle Color: string (nullable = true)\n",
      " |-- Unregistered Vehicle?: integer (nullable = true)\n",
      " |-- Vehicle Year: integer (nullable = true)\n",
      " |-- Meter Number: string (nullable = true)\n",
      " |-- Feet From Curb: integer (nullable = true)\n",
      " |-- Violation Post Code: string (nullable = true)\n",
      " |-- Violation Description: string (nullable = true)\n",
      " |-- No Standing or Stopping Violation: string (nullable = true)\n",
      " |-- Hydrant Violation: string (nullable = true)\n",
      " |-- Double Parking Violation: string (nullable = true)\n",
      "\n"
     ]
    }
   ],
   "source": [
    "df.printSchema()"
   ]
  },
  {
   "cell_type": "code",
   "execution_count": 5,
   "id": "f334a4b6-0631-4b98-8a6f-574e7db823ee",
   "metadata": {
    "tags": []
   },
   "outputs": [
    {
     "name": "stdout",
     "output_type": "stream",
     "text": [
      "+--------------------+--------+-------------+---------------+\n",
      "|            the_geom|Precinct|   Shape_Leng|     Shape_Area|\n",
      "+--------------------+--------+-------------+---------------+\n",
      "|MULTIPOLYGON (((-...|       1|80283.5387782|4.72864229826E7|\n",
      "|MULTIPOLYGON (((-...|       5|18807.1249114|1.80945274385E7|\n",
      "|MULTIPOLYGON (((-...|       6|24875.9642171|2.20179465474E7|\n",
      "|MULTIPOLYGON (((-...|       7|17287.5444926| 1.8366669928E7|\n",
      "|MULTIPOLYGON (((-...|       9|19772.5107407|2.13953862669E7|\n",
      "+--------------------+--------+-------------+---------------+\n",
      "only showing top 5 rows\n",
      "\n"
     ]
    }
   ],
   "source": [
    "precinct_keys = spark.read \\\n",
    "    .option(\"header\", \"true\") \\\n",
    "    .option(\"inferSchema\", \"true\") \\\n",
    "    .csv(precinct_data_path)\n",
    "precinct_keys.show(5)"
   ]
  },
  {
   "cell_type": "code",
   "execution_count": 6,
   "id": "38157b7f-6b22-4da3-be1b-ba1f8d276136",
   "metadata": {
    "tags": []
   },
   "outputs": [
    {
     "name": "stderr",
     "output_type": "stream",
     "text": [
      "                                                                                \r"
     ]
    },
    {
     "name": "stdout",
     "output_type": "stream",
     "text": [
      "+------------------+----------------+\n",
      "|violation_precinct|count_violations|\n",
      "+------------------+----------------+\n",
      "|                 0|         5938384|\n",
      "|                19|          331642|\n",
      "|                13|          291119|\n",
      "|                 6|          259154|\n",
      "|               114|          254978|\n",
      "|                14|          220291|\n",
      "+------------------+----------------+\n",
      "only showing top 6 rows\n",
      "\n"
     ]
    }
   ],
   "source": [
    "# use sql syntax to parse the nested json\n",
    "df.createOrReplaceTempView(\"2023_violations\")\n",
    "query = \"\"\"\n",
    "select \n",
    "    `Violation Precinct` as violation_precinct,\n",
    "    count(*) as count_violations\n",
    "from \n",
    "    2023_violations\n",
    "group by 1\n",
    "order by 2 desc\n",
    "\n",
    "\"\"\"\n",
    "precincts = spark.sql(query)\n",
    "precincts.toPandas().to_csv('violations_by_precinct.csv')\n",
    "\n",
    "# I think precinct 0 is in error and should be ignored\n",
    "precincts.show(6)"
   ]
  },
  {
   "cell_type": "markdown",
   "id": "cce6ddbc-1c30-4f62-9508-ea77c2be6da4",
   "metadata": {},
   "source": [
    "# ML Section"
   ]
  },
  {
   "cell_type": "code",
   "execution_count": 7,
   "id": "42843ac5-f993-4cc3-aa32-b972da54fed8",
   "metadata": {
    "tags": []
   },
   "outputs": [],
   "source": [
    "# OPEN DATASET - FOR MACHINE LEARNING \n",
    "# df = spark.read \\\n",
    "#     .option(\"header\", \"true\") \\\n",
    "#     .option(\"inferSchema\", \"true\") \\\n",
    "#     .csv(open_data_path)\n",
    "\n",
    "# df.repartition(1).write.mode('overwrite').parquet('tmp/open_parking_full')\n",
    "\n",
    "# read in the open data violations file\n",
    "df = spark.read.parquet('/Users/maludee/repos/Big-Data-Project/notebooks/tmp/open_parking_full/*.parquet')"
   ]
  },
  {
   "cell_type": "code",
   "execution_count": 8,
   "id": "a6806899-2458-4897-9d58-67f47b5a5b19",
   "metadata": {
    "tags": []
   },
   "outputs": [
    {
     "name": "stdout",
     "output_type": "stream",
     "text": [
      "+--------+-------------+-----------+\n",
      "|in_state|passenger_car|fine_amount|\n",
      "+--------+-------------+-----------+\n",
      "|       1|            0|       65.0|\n",
      "|       0|            1|       50.0|\n",
      "|       1|            1|       50.0|\n",
      "+--------+-------------+-----------+\n",
      "only showing top 3 rows\n",
      "\n"
     ]
    }
   ],
   "source": [
    "# select a subset of columns for the model (TODO: add more)\n",
    "training_df = df.na.drop().select([col(\"State\"), col(\"License Type\"), \n",
    "                                   col(\"Violation\"), col(\"Penalty Amount\"), \n",
    "                                   col(\"Violation Time\")])\n",
    "\n",
    "# make into a temp sql view for convenience \n",
    "df.createOrReplaceTempView(\"open_violations\")\n",
    "\n",
    "query = \"\"\"\n",
    "select \n",
    "    case when lower(State) = 'ny' then 1 else 0 end as in_state,\n",
    "    case when lower(`License Type`) = 'pas' then 1 else 0 end as passenger_car,\n",
    "    `Fine Amount` as fine_amount\n",
    "from \n",
    "    open_violations\n",
    "\n",
    "\"\"\"\n",
    "\n",
    "# query for model training dataset\n",
    "X_y = spark.sql(query)\n",
    "X_y.show(3)"
   ]
  },
  {
   "cell_type": "code",
   "execution_count": 10,
   "id": "490ac7c6-fa4b-444a-b786-a3fb2950c08f",
   "metadata": {
    "tags": []
   },
   "outputs": [],
   "source": [
    "# convert to dask - write training set to parquet\n",
    "X_y.repartition(1).write.mode('overwrite').parquet('tmp/regression_dataset')"
   ]
  },
  {
   "cell_type": "code",
   "execution_count": 28,
   "id": "70f01e34-8443-426f-8bcf-5ddc289a36d6",
   "metadata": {
    "tags": []
   },
   "outputs": [],
   "source": [
    "# convert to dask - read from parquet to dask dataframe\n",
    "X_y = dd.read_parquet('/Users/maludee/repos/Big-Data-Project/notebooks/tmp/regression_dataset/*.parquet')  \n",
    "\n",
    "X = X_y[['in_state', 'passenger_car']].to_dask_array()\n",
    "y = X_y['fine_amount'].to_dask_array()"
   ]
  },
  {
   "cell_type": "code",
   "execution_count": 29,
   "id": "911233a0-da3a-4780-902b-cae9664adcf3",
   "metadata": {
    "tags": []
   },
   "outputs": [
    {
     "data": {
      "text/html": [
       "<table>\n",
       "    <tr>\n",
       "        <td>\n",
       "            <table style=\"border-collapse: collapse;\">\n",
       "                <thead>\n",
       "                    <tr>\n",
       "                        <td> </td>\n",
       "                        <th> Array </th>\n",
       "                        <th> Chunk </th>\n",
       "                    </tr>\n",
       "                </thead>\n",
       "                <tbody>\n",
       "                    \n",
       "                    <tr>\n",
       "                        <th> Bytes </th>\n",
       "                        <td> 736.37 MiB </td>\n",
       "                        <td> 736.37 MiB </td>\n",
       "                    </tr>\n",
       "                    \n",
       "                    <tr>\n",
       "                        <th> Shape </th>\n",
       "                        <td> (96517058,) </td>\n",
       "                        <td> (96517058,) </td>\n",
       "                    </tr>\n",
       "                    <tr>\n",
       "                        <th> Dask graph </th>\n",
       "                        <td colspan=\"2\"> 1 chunks in 3 graph layers </td>\n",
       "                    </tr>\n",
       "                    <tr>\n",
       "                        <th> Data type </th>\n",
       "                        <td colspan=\"2\"> float64 numpy.ndarray </td>\n",
       "                    </tr>\n",
       "                </tbody>\n",
       "            </table>\n",
       "        </td>\n",
       "        <td>\n",
       "        <svg width=\"170\" height=\"75\" style=\"stroke:rgb(0,0,0);stroke-width:1\" >\n",
       "\n",
       "  <!-- Horizontal lines -->\n",
       "  <line x1=\"0\" y1=\"0\" x2=\"120\" y2=\"0\" style=\"stroke-width:2\" />\n",
       "  <line x1=\"0\" y1=\"25\" x2=\"120\" y2=\"25\" style=\"stroke-width:2\" />\n",
       "\n",
       "  <!-- Vertical lines -->\n",
       "  <line x1=\"0\" y1=\"0\" x2=\"0\" y2=\"25\" style=\"stroke-width:2\" />\n",
       "  <line x1=\"120\" y1=\"0\" x2=\"120\" y2=\"25\" style=\"stroke-width:2\" />\n",
       "\n",
       "  <!-- Colored Rectangle -->\n",
       "  <polygon points=\"0.0,0.0 120.0,0.0 120.0,25.412616514582485 0.0,25.412616514582485\" style=\"fill:#ECB172A0;stroke-width:0\"/>\n",
       "\n",
       "  <!-- Text -->\n",
       "  <text x=\"60.000000\" y=\"45.412617\" font-size=\"1.0rem\" font-weight=\"100\" text-anchor=\"middle\" >96517058</text>\n",
       "  <text x=\"140.000000\" y=\"12.706308\" font-size=\"1.0rem\" font-weight=\"100\" text-anchor=\"middle\" transform=\"rotate(0,140.000000,12.706308)\">1</text>\n",
       "</svg>\n",
       "        </td>\n",
       "    </tr>\n",
       "</table>"
      ],
      "text/plain": [
       "dask.array<values, shape=(96517058,), dtype=float64, chunksize=(96517058,), chunktype=numpy.ndarray>"
      ]
     },
     "execution_count": 29,
     "metadata": {},
     "output_type": "execute_result"
    }
   ],
   "source": [
    "# this is needed to get the arrays to compute? \n",
    "X.compute_chunk_sizes()\n",
    "y.compute_chunk_sizes()"
   ]
  },
  {
   "cell_type": "code",
   "execution_count": 32,
   "id": "f8f6d226-50b3-408e-bdc1-f7a6486ed7a5",
   "metadata": {
    "tags": []
   },
   "outputs": [
    {
     "data": {
      "text/html": [
       "<style>#sk-container-id-1 {color: black;background-color: white;}#sk-container-id-1 pre{padding: 0;}#sk-container-id-1 div.sk-toggleable {background-color: white;}#sk-container-id-1 label.sk-toggleable__label {cursor: pointer;display: block;width: 100%;margin-bottom: 0;padding: 0.3em;box-sizing: border-box;text-align: center;}#sk-container-id-1 label.sk-toggleable__label-arrow:before {content: \"▸\";float: left;margin-right: 0.25em;color: #696969;}#sk-container-id-1 label.sk-toggleable__label-arrow:hover:before {color: black;}#sk-container-id-1 div.sk-estimator:hover label.sk-toggleable__label-arrow:before {color: black;}#sk-container-id-1 div.sk-toggleable__content {max-height: 0;max-width: 0;overflow: hidden;text-align: left;background-color: #f0f8ff;}#sk-container-id-1 div.sk-toggleable__content pre {margin: 0.2em;color: black;border-radius: 0.25em;background-color: #f0f8ff;}#sk-container-id-1 input.sk-toggleable__control:checked~div.sk-toggleable__content {max-height: 200px;max-width: 100%;overflow: auto;}#sk-container-id-1 input.sk-toggleable__control:checked~label.sk-toggleable__label-arrow:before {content: \"▾\";}#sk-container-id-1 div.sk-estimator input.sk-toggleable__control:checked~label.sk-toggleable__label {background-color: #d4ebff;}#sk-container-id-1 div.sk-label input.sk-toggleable__control:checked~label.sk-toggleable__label {background-color: #d4ebff;}#sk-container-id-1 input.sk-hidden--visually {border: 0;clip: rect(1px 1px 1px 1px);clip: rect(1px, 1px, 1px, 1px);height: 1px;margin: -1px;overflow: hidden;padding: 0;position: absolute;width: 1px;}#sk-container-id-1 div.sk-estimator {font-family: monospace;background-color: #f0f8ff;border: 1px dotted black;border-radius: 0.25em;box-sizing: border-box;margin-bottom: 0.5em;}#sk-container-id-1 div.sk-estimator:hover {background-color: #d4ebff;}#sk-container-id-1 div.sk-parallel-item::after {content: \"\";width: 100%;border-bottom: 1px solid gray;flex-grow: 1;}#sk-container-id-1 div.sk-label:hover label.sk-toggleable__label {background-color: #d4ebff;}#sk-container-id-1 div.sk-serial::before {content: \"\";position: absolute;border-left: 1px solid gray;box-sizing: border-box;top: 0;bottom: 0;left: 50%;z-index: 0;}#sk-container-id-1 div.sk-serial {display: flex;flex-direction: column;align-items: center;background-color: white;padding-right: 0.2em;padding-left: 0.2em;position: relative;}#sk-container-id-1 div.sk-item {position: relative;z-index: 1;}#sk-container-id-1 div.sk-parallel {display: flex;align-items: stretch;justify-content: center;background-color: white;position: relative;}#sk-container-id-1 div.sk-item::before, #sk-container-id-1 div.sk-parallel-item::before {content: \"\";position: absolute;border-left: 1px solid gray;box-sizing: border-box;top: 0;bottom: 0;left: 50%;z-index: -1;}#sk-container-id-1 div.sk-parallel-item {display: flex;flex-direction: column;z-index: 1;position: relative;background-color: white;}#sk-container-id-1 div.sk-parallel-item:first-child::after {align-self: flex-end;width: 50%;}#sk-container-id-1 div.sk-parallel-item:last-child::after {align-self: flex-start;width: 50%;}#sk-container-id-1 div.sk-parallel-item:only-child::after {width: 0;}#sk-container-id-1 div.sk-dashed-wrapped {border: 1px dashed gray;margin: 0 0.4em 0.5em 0.4em;box-sizing: border-box;padding-bottom: 0.4em;background-color: white;}#sk-container-id-1 div.sk-label label {font-family: monospace;font-weight: bold;display: inline-block;line-height: 1.2em;}#sk-container-id-1 div.sk-label-container {text-align: center;}#sk-container-id-1 div.sk-container {/* jupyter's `normalize.less` sets `[hidden] { display: none; }` but bootstrap.min.css set `[hidden] { display: none !important; }` so we also need the `!important` here to be able to override the default hidden behavior on the sphinx rendered scikit-learn.org. See: https://github.com/scikit-learn/scikit-learn/issues/21755 */display: inline-block !important;position: relative;}#sk-container-id-1 div.sk-text-repr-fallback {display: none;}</style><div id=\"sk-container-id-1\" class=\"sk-top-container\"><div class=\"sk-text-repr-fallback\"><pre>LinearRegression()</pre><b>In a Jupyter environment, please rerun this cell to show the HTML representation or trust the notebook. <br />On GitHub, the HTML representation is unable to render, please try loading this page with nbviewer.org.</b></div><div class=\"sk-container\" hidden><div class=\"sk-item\"><div class=\"sk-estimator sk-toggleable\"><input class=\"sk-toggleable__control sk-hidden--visually\" id=\"sk-estimator-id-1\" type=\"checkbox\" checked><label for=\"sk-estimator-id-1\" class=\"sk-toggleable__label sk-toggleable__label-arrow\">LinearRegression</label><div class=\"sk-toggleable__content\"><pre>LinearRegression()</pre></div></div></div></div></div>"
      ],
      "text/plain": [
       "LinearRegression()"
      ]
     },
     "execution_count": 32,
     "metadata": {},
     "output_type": "execute_result"
    }
   ],
   "source": [
    "# train the model\n",
    "lr = LinearRegression()\n",
    "lr.fit(X, y)"
   ]
  },
  {
   "cell_type": "code",
   "execution_count": 35,
   "id": "4a8b7b37-b0d0-497b-8cbe-a58a00a92887",
   "metadata": {
    "tags": []
   },
   "outputs": [
    {
     "data": {
      "text/plain": [
       "nan"
      ]
     },
     "execution_count": 35,
     "metadata": {},
     "output_type": "execute_result"
    }
   ],
   "source": [
    "# get predictions\n",
    "yhat = lr.predict(X)\n",
    "\n",
    "# why is score returning nan?\n",
    "lr.score(X, y)"
   ]
  },
  {
   "cell_type": "code",
   "execution_count": 39,
   "id": "8754d15d-fb55-44c5-93d7-4b4137f81230",
   "metadata": {
    "tags": []
   },
   "outputs": [
    {
     "data": {
      "text/plain": [
       "array([ 65.,  50.,  50.,  50.,  50., 115.,  50.,  50.,  50.,  50.,  50.,\n",
       "        50.,  50.,  50.,  65.,  50.,  45., 115.,  50.,  50.,  65.,  50.,\n",
       "        50.,  50.,  65.,  65.,  50.,  50.,  50.,  50.])"
      ]
     },
     "execution_count": 39,
     "metadata": {},
     "output_type": "execute_result"
    }
   ],
   "source": [
    "y[:30].compute()"
   ]
  },
  {
   "cell_type": "code",
   "execution_count": 38,
   "id": "f785b501-3531-4066-aed7-589adafb4aae",
   "metadata": {
    "tags": []
   },
   "outputs": [
    {
     "data": {
      "text/plain": [
       "array([-0.3496723 , -0.21716544,  2.07784501,  2.07784501,  2.07784501,\n",
       "        2.07784501,  2.07784501,  2.07784501,  2.07784501,  2.07784501,\n",
       "       -0.3496723 ,  2.07784501,  2.07784501,  2.07784501,  2.07784501,\n",
       "       -0.3496723 ,  2.07784501,  2.07784501,  2.07784501,  2.07784501,\n",
       "        2.07784501,  2.07784501,  2.07784501, -0.21716544, -0.3496723 ,\n",
       "       -0.3496723 ,  2.07784501,  2.07784501,  2.07784501, -0.3496723 ])"
      ]
     },
     "execution_count": 38,
     "metadata": {},
     "output_type": "execute_result"
    }
   ],
   "source": [
    "yhat[:30].compute()\n"
   ]
  },
  {
   "cell_type": "code",
   "execution_count": null,
   "id": "2f4245f6-886e-49db-a04d-c34988e19552",
   "metadata": {},
   "outputs": [],
   "source": []
  }
 ],
 "metadata": {
  "kernelspec": {
   "display_name": "Python 3 (ipykernel)",
   "language": "python",
   "name": "python3"
  },
  "language_info": {
   "codemirror_mode": {
    "name": "ipython",
    "version": 3
   },
   "file_extension": ".py",
   "mimetype": "text/x-python",
   "name": "python",
   "nbconvert_exporter": "python",
   "pygments_lexer": "ipython3",
   "version": "3.8.16"
  }
 },
 "nbformat": 4,
 "nbformat_minor": 5
}
